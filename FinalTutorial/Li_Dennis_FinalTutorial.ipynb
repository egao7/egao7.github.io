{
 "cells": [
  {
   "cell_type": "markdown",
   "metadata": {},
   "source": [
    "<h1><strong>A Match Made In Heaven</strong></h1>\n",
    "<br>\n",
    "<strong>Dennis Li, Eric Gao</strong>"
   ]
  },
  {
   "cell_type": "markdown",
   "metadata": {},
   "source": [
    "<strong><h1>Introduction: </h1></strong> <br>\n",
    "It may or may not be spring time, but love remains in the air. With the explosion of various different dating sites, online matchmaking has seemingly become the best way to meet new people and get dates. Face-to-face dating events have pretty much become a thing of the past. Nevertheless, speed dating is still a method for romantics to find their soul mate. \"Love at first sight\". \"Star crossed lovers\". There are quite a few idioms surrounding the mystery of attraction and love. And then there are always the statements about how personality is what truly makes someone beautiful. But what really makes someone attractive? What makes them attractive enough to take the time to try and get to know their personality.\n",
    "<br>\n",
    "By compiling and analyzing data on thousands of speed dates, we can get an idea of what exactly makes certain people seem more desirable than others. This tutorial will walk through different steps to generate analyses that try to find those traits."
   ]
  },
  {
   "cell_type": "markdown",
   "metadata": {},
   "source": [
    "<strong>Libraries</strong>\n",
    "<br>\n",
    "These will be the libraries that will be necessary for various different analyses."
   ]
  },
  {
   "cell_type": "code",
   "execution_count": 2,
   "metadata": {},
   "outputs": [
    {
     "name": "stdout",
     "output_type": "stream",
     "text": [
      "Collecting pip\n",
      "  Downloading https://files.pythonhosted.org/packages/c2/d7/90f34cb0d83a6c5631cf71dfe64cc1054598c843a92b400e55675cc2ac37/pip-18.1-py2.py3-none-any.whl (1.3MB)\n",
      "\u001b[K    100% |████████████████████████████████| 1.3MB 319kB/s ta 0:00:01\n",
      "\u001b[?25hInstalling collected packages: pip\n",
      "  Found existing installation: pip 9.0.3\n",
      "    Uninstalling pip-9.0.3:\n",
      "      Successfully uninstalled pip-9.0.3\n",
      "Successfully installed pip-18.1\n",
      "Requirement already satisfied: seaborn in /opt/conda/lib/python3.6/site-packages (0.9.0)\n",
      "Requirement already satisfied: numpy>=1.9.3 in /opt/conda/lib/python3.6/site-packages (from seaborn) (1.13.3)\n",
      "Requirement already satisfied: scipy>=0.14.0 in /opt/conda/lib/python3.6/site-packages (from seaborn) (1.1.0)\n",
      "Requirement already satisfied: pandas>=0.15.2 in /opt/conda/lib/python3.6/site-packages (from seaborn) (0.23.4)\n",
      "Requirement already satisfied: matplotlib>=1.4.3 in /opt/conda/lib/python3.6/site-packages (from seaborn) (2.2.3)\n",
      "Requirement already satisfied: python-dateutil>=2.5.0 in /opt/conda/lib/python3.6/site-packages (from pandas>=0.15.2->seaborn) (2.7.3)\n",
      "Requirement already satisfied: pytz>=2011k in /opt/conda/lib/python3.6/site-packages (from pandas>=0.15.2->seaborn) (2018.5)\n",
      "Requirement already satisfied: cycler>=0.10 in /opt/conda/lib/python3.6/site-packages (from matplotlib>=1.4.3->seaborn) (0.10.0)\n",
      "Requirement already satisfied: pyparsing!=2.0.4,!=2.1.2,!=2.1.6,>=2.0.1 in /opt/conda/lib/python3.6/site-packages (from matplotlib>=1.4.3->seaborn) (2.2.0)\n",
      "Requirement already satisfied: six>=1.10 in /opt/conda/lib/python3.6/site-packages (from matplotlib>=1.4.3->seaborn) (1.11.0)\n",
      "Requirement already satisfied: kiwisolver>=1.0.1 in /opt/conda/lib/python3.6/site-packages (from matplotlib>=1.4.3->seaborn) (1.0.1)\n",
      "Requirement already satisfied: setuptools in /opt/conda/lib/python3.6/site-packages (from kiwisolver>=1.0.1->matplotlib>=1.4.3->seaborn) (40.0.0)\n"
     ]
    }
   ],
   "source": [
    "# This will automatically install seaborn\n",
    "!pip install --upgrade pip\n",
    "!pip install seaborn\n",
    "\n",
    "import pandas as pd\n",
    "import numpy as np\n",
    "import seaborn as sns\n",
    "import matplotlib.pyplot as plt\n",
    "import statsmodels.api as sm\n",
    "from statsmodels.formula.api import ols\n",
    "from numpy.polynomial.polynomial import polyfit\n",
    "from sklearn.linear_model import LinearRegression"
   ]
  },
  {
   "cell_type": "markdown",
   "metadata": {},
   "source": [
    "<strong>Getting the data</strong>\n",
    "<br>\n",
    "Use pandas to read the data from a csv file into a dataframe"
   ]
  },
  {
   "cell_type": "code",
   "execution_count": 3,
   "metadata": {},
   "outputs": [
    {
     "data": {
      "text/html": [
       "<div>\n",
       "<style scoped>\n",
       "    .dataframe tbody tr th:only-of-type {\n",
       "        vertical-align: middle;\n",
       "    }\n",
       "\n",
       "    .dataframe tbody tr th {\n",
       "        vertical-align: top;\n",
       "    }\n",
       "\n",
       "    .dataframe thead th {\n",
       "        text-align: right;\n",
       "    }\n",
       "</style>\n",
       "<table border=\"1\" class=\"dataframe\">\n",
       "  <thead>\n",
       "    <tr style=\"text-align: right;\">\n",
       "      <th></th>\n",
       "      <th>iid</th>\n",
       "      <th>id</th>\n",
       "      <th>gender</th>\n",
       "      <th>idg</th>\n",
       "      <th>condtn</th>\n",
       "      <th>wave</th>\n",
       "      <th>round</th>\n",
       "      <th>position</th>\n",
       "      <th>positin1</th>\n",
       "      <th>order</th>\n",
       "      <th>...</th>\n",
       "      <th>attr3_3</th>\n",
       "      <th>sinc3_3</th>\n",
       "      <th>intel3_3</th>\n",
       "      <th>fun3_3</th>\n",
       "      <th>amb3_3</th>\n",
       "      <th>attr5_3</th>\n",
       "      <th>sinc5_3</th>\n",
       "      <th>intel5_3</th>\n",
       "      <th>fun5_3</th>\n",
       "      <th>amb5_3</th>\n",
       "    </tr>\n",
       "  </thead>\n",
       "  <tbody>\n",
       "    <tr>\n",
       "      <th>0</th>\n",
       "      <td>1</td>\n",
       "      <td>1.0</td>\n",
       "      <td>0</td>\n",
       "      <td>1</td>\n",
       "      <td>1</td>\n",
       "      <td>1</td>\n",
       "      <td>10</td>\n",
       "      <td>7</td>\n",
       "      <td>NaN</td>\n",
       "      <td>4</td>\n",
       "      <td>...</td>\n",
       "      <td>5.0</td>\n",
       "      <td>7.0</td>\n",
       "      <td>7.0</td>\n",
       "      <td>7.0</td>\n",
       "      <td>7.0</td>\n",
       "      <td>NaN</td>\n",
       "      <td>NaN</td>\n",
       "      <td>NaN</td>\n",
       "      <td>NaN</td>\n",
       "      <td>NaN</td>\n",
       "    </tr>\n",
       "    <tr>\n",
       "      <th>1</th>\n",
       "      <td>1</td>\n",
       "      <td>1.0</td>\n",
       "      <td>0</td>\n",
       "      <td>1</td>\n",
       "      <td>1</td>\n",
       "      <td>1</td>\n",
       "      <td>10</td>\n",
       "      <td>7</td>\n",
       "      <td>NaN</td>\n",
       "      <td>3</td>\n",
       "      <td>...</td>\n",
       "      <td>5.0</td>\n",
       "      <td>7.0</td>\n",
       "      <td>7.0</td>\n",
       "      <td>7.0</td>\n",
       "      <td>7.0</td>\n",
       "      <td>NaN</td>\n",
       "      <td>NaN</td>\n",
       "      <td>NaN</td>\n",
       "      <td>NaN</td>\n",
       "      <td>NaN</td>\n",
       "    </tr>\n",
       "    <tr>\n",
       "      <th>2</th>\n",
       "      <td>1</td>\n",
       "      <td>1.0</td>\n",
       "      <td>0</td>\n",
       "      <td>1</td>\n",
       "      <td>1</td>\n",
       "      <td>1</td>\n",
       "      <td>10</td>\n",
       "      <td>7</td>\n",
       "      <td>NaN</td>\n",
       "      <td>10</td>\n",
       "      <td>...</td>\n",
       "      <td>5.0</td>\n",
       "      <td>7.0</td>\n",
       "      <td>7.0</td>\n",
       "      <td>7.0</td>\n",
       "      <td>7.0</td>\n",
       "      <td>NaN</td>\n",
       "      <td>NaN</td>\n",
       "      <td>NaN</td>\n",
       "      <td>NaN</td>\n",
       "      <td>NaN</td>\n",
       "    </tr>\n",
       "    <tr>\n",
       "      <th>3</th>\n",
       "      <td>1</td>\n",
       "      <td>1.0</td>\n",
       "      <td>0</td>\n",
       "      <td>1</td>\n",
       "      <td>1</td>\n",
       "      <td>1</td>\n",
       "      <td>10</td>\n",
       "      <td>7</td>\n",
       "      <td>NaN</td>\n",
       "      <td>5</td>\n",
       "      <td>...</td>\n",
       "      <td>5.0</td>\n",
       "      <td>7.0</td>\n",
       "      <td>7.0</td>\n",
       "      <td>7.0</td>\n",
       "      <td>7.0</td>\n",
       "      <td>NaN</td>\n",
       "      <td>NaN</td>\n",
       "      <td>NaN</td>\n",
       "      <td>NaN</td>\n",
       "      <td>NaN</td>\n",
       "    </tr>\n",
       "    <tr>\n",
       "      <th>4</th>\n",
       "      <td>1</td>\n",
       "      <td>1.0</td>\n",
       "      <td>0</td>\n",
       "      <td>1</td>\n",
       "      <td>1</td>\n",
       "      <td>1</td>\n",
       "      <td>10</td>\n",
       "      <td>7</td>\n",
       "      <td>NaN</td>\n",
       "      <td>7</td>\n",
       "      <td>...</td>\n",
       "      <td>5.0</td>\n",
       "      <td>7.0</td>\n",
       "      <td>7.0</td>\n",
       "      <td>7.0</td>\n",
       "      <td>7.0</td>\n",
       "      <td>NaN</td>\n",
       "      <td>NaN</td>\n",
       "      <td>NaN</td>\n",
       "      <td>NaN</td>\n",
       "      <td>NaN</td>\n",
       "    </tr>\n",
       "  </tbody>\n",
       "</table>\n",
       "<p>5 rows × 195 columns</p>\n",
       "</div>"
      ],
      "text/plain": [
       "   iid   id  gender  idg  condtn  wave  round  position  positin1  order  \\\n",
       "0    1  1.0       0    1       1     1     10         7       NaN      4   \n",
       "1    1  1.0       0    1       1     1     10         7       NaN      3   \n",
       "2    1  1.0       0    1       1     1     10         7       NaN     10   \n",
       "3    1  1.0       0    1       1     1     10         7       NaN      5   \n",
       "4    1  1.0       0    1       1     1     10         7       NaN      7   \n",
       "\n",
       "    ...    attr3_3  sinc3_3  intel3_3  fun3_3  amb3_3  attr5_3  sinc5_3  \\\n",
       "0   ...        5.0      7.0       7.0     7.0     7.0      NaN      NaN   \n",
       "1   ...        5.0      7.0       7.0     7.0     7.0      NaN      NaN   \n",
       "2   ...        5.0      7.0       7.0     7.0     7.0      NaN      NaN   \n",
       "3   ...        5.0      7.0       7.0     7.0     7.0      NaN      NaN   \n",
       "4   ...        5.0      7.0       7.0     7.0     7.0      NaN      NaN   \n",
       "\n",
       "   intel5_3  fun5_3  amb5_3  \n",
       "0       NaN     NaN     NaN  \n",
       "1       NaN     NaN     NaN  \n",
       "2       NaN     NaN     NaN  \n",
       "3       NaN     NaN     NaN  \n",
       "4       NaN     NaN     NaN  \n",
       "\n",
       "[5 rows x 195 columns]"
      ]
     },
     "execution_count": 3,
     "metadata": {},
     "output_type": "execute_result"
    }
   ],
   "source": [
    "dating_info = pd.read_csv('Speed Dating Data.csv', encoding = \"ISO-8859-1\")\n",
    "dating_info.head()"
   ]
  },
  {
   "cell_type": "markdown",
   "metadata": {},
   "source": [
    "<strong>Tidying Data:</strong><br>\n",
    "A quick glance at the original table reveals an incredible number of different columns, or attributes, that may or may not need to be considered. You will notice many of these attributes are missing data. In trying to find specific traits that make someone attractive or desirable at first glance, the data for some of the attributes would be much more useful than others. Using too many factors to determine attractiveness could make it hard to find a noticeable distinction between being attractive and not. Additionally, each entry in the original table may be missing various values, which pose challenges when attempting to perform analyses on the data. In order to ensure a smooth analysis process, we can take steps to transform, or \"tidy\", the initial data to something that is easier to work with. After tidying the data, you will see that attributes that were missing data have been removed, in order to ease the analysis process"
   ]
  },
  {
   "cell_type": "code",
   "execution_count": 4,
   "metadata": {},
   "outputs": [
    {
     "data": {
      "text/html": [
       "<div>\n",
       "<style scoped>\n",
       "    .dataframe tbody tr th:only-of-type {\n",
       "        vertical-align: middle;\n",
       "    }\n",
       "\n",
       "    .dataframe tbody tr th {\n",
       "        vertical-align: top;\n",
       "    }\n",
       "\n",
       "    .dataframe thead th {\n",
       "        text-align: right;\n",
       "    }\n",
       "</style>\n",
       "<table border=\"1\" class=\"dataframe\">\n",
       "  <thead>\n",
       "    <tr style=\"text-align: right;\">\n",
       "      <th></th>\n",
       "      <th>iid</th>\n",
       "      <th>pid</th>\n",
       "      <th>match</th>\n",
       "      <th>race</th>\n",
       "      <th>race_o</th>\n",
       "      <th>age</th>\n",
       "      <th>gender</th>\n",
       "      <th>field_cd</th>\n",
       "      <th>career_c</th>\n",
       "      <th>self_perc</th>\n",
       "      <th>partner_perc</th>\n",
       "    </tr>\n",
       "  </thead>\n",
       "  <tbody>\n",
       "    <tr>\n",
       "      <th>30</th>\n",
       "      <td>4</td>\n",
       "      <td>11</td>\n",
       "      <td>0</td>\n",
       "      <td>2</td>\n",
       "      <td>2</td>\n",
       "      <td>23</td>\n",
       "      <td>0</td>\n",
       "      <td>1</td>\n",
       "      <td>1</td>\n",
       "      <td>7</td>\n",
       "      <td>6</td>\n",
       "    </tr>\n",
       "    <tr>\n",
       "      <th>31</th>\n",
       "      <td>4</td>\n",
       "      <td>12</td>\n",
       "      <td>0</td>\n",
       "      <td>2</td>\n",
       "      <td>2</td>\n",
       "      <td>23</td>\n",
       "      <td>0</td>\n",
       "      <td>1</td>\n",
       "      <td>1</td>\n",
       "      <td>7</td>\n",
       "      <td>6</td>\n",
       "    </tr>\n",
       "    <tr>\n",
       "      <th>32</th>\n",
       "      <td>4</td>\n",
       "      <td>13</td>\n",
       "      <td>0</td>\n",
       "      <td>2</td>\n",
       "      <td>4</td>\n",
       "      <td>23</td>\n",
       "      <td>0</td>\n",
       "      <td>1</td>\n",
       "      <td>1</td>\n",
       "      <td>7</td>\n",
       "      <td>10</td>\n",
       "    </tr>\n",
       "    <tr>\n",
       "      <th>33</th>\n",
       "      <td>4</td>\n",
       "      <td>14</td>\n",
       "      <td>1</td>\n",
       "      <td>2</td>\n",
       "      <td>2</td>\n",
       "      <td>23</td>\n",
       "      <td>0</td>\n",
       "      <td>1</td>\n",
       "      <td>1</td>\n",
       "      <td>7</td>\n",
       "      <td>7</td>\n",
       "    </tr>\n",
       "    <tr>\n",
       "      <th>34</th>\n",
       "      <td>4</td>\n",
       "      <td>15</td>\n",
       "      <td>0</td>\n",
       "      <td>2</td>\n",
       "      <td>3</td>\n",
       "      <td>23</td>\n",
       "      <td>0</td>\n",
       "      <td>1</td>\n",
       "      <td>1</td>\n",
       "      <td>7</td>\n",
       "      <td>8</td>\n",
       "    </tr>\n",
       "  </tbody>\n",
       "</table>\n",
       "</div>"
      ],
      "text/plain": [
       "    iid  pid  match  race  race_o  age  gender  field_cd  career_c  self_perc  \\\n",
       "30    4   11      0     2       2   23       0         1         1          7   \n",
       "31    4   12      0     2       2   23       0         1         1          7   \n",
       "32    4   13      0     2       4   23       0         1         1          7   \n",
       "33    4   14      1     2       2   23       0         1         1          7   \n",
       "34    4   15      0     2       3   23       0         1         1          7   \n",
       "\n",
       "    partner_perc  \n",
       "30             6  \n",
       "31             6  \n",
       "32            10  \n",
       "33             7  \n",
       "34             8  "
      ]
     },
     "execution_count": 4,
     "metadata": {},
     "output_type": "execute_result"
    }
   ],
   "source": [
    "# take a subset of the columns from the original table\n",
    "data = dating_info[['iid', 'pid', 'match', 'race', 'race_o', 'age', 'gender', 'field_cd', 'career_c', 'attr3_1', 'attr_o']]\n",
    "\n",
    "# dictionaries to define the codes used in the table\n",
    "field_codes = {1: 'Law', 2: 'Math', 3: 'Social Science, Psychologist', 4: 'Medical Science', 5: 'Engineering',\n",
    "               6: 'English/Creative Writing/Journalism', 7: 'History/Religion/Philosophy', 8: 'Business/Econ/Fiance', \n",
    "               9: 'Education, Academia', 10: 'Biological Sciences/Chemistry/Physics', 11: 'Social Work', 12:'Undergrad/Undecided',\n",
    "               13: 'Political Science/International Affairs', 14: 'Film', 15: 'Fine Arts/Arts Administration',16: 'Languages',\n",
    "               17: 'Architecture',18: 'Other'}\n",
    "career_codes = {1:'Lawyer',2:'Academic/Research',3:'Psychologist',4:'Doctor/Medicine',5:'Engineer',6:'Entertainment',\n",
    "               7:'Finance',8:'Real Estate',9:'International Affairs',10:'Undecided',\n",
    "               11:'Social Work',12:'Speech Pathology',13:'Politics',14:'Athletics',15:'Other',16:'Journalism',\n",
    "               17:'Architecture'}\n",
    "race_codes = {1:'Black',2:'European',3:'Latino/Hispanic',4:'Asian',5:'Native American',6:'Other'}\n",
    "gender_codes = {0:'female',1:'male'}\n",
    "\n",
    "# Remove all entries that are missing any data\n",
    "data = data[pd.notnull(data['race'])]\n",
    "data = data[pd.notnull(data['age'])]\n",
    "data = data[pd.notnull(data['field_cd'])]\n",
    "data = data[pd.notnull(data['career_c'])]\n",
    "data = data[pd.notnull(data['pid'])]\n",
    "data = data[pd.notnull(data['race_o'])]\n",
    "data = data[pd.notnull(data['attr3_1'])]\n",
    "data = data[pd.notnull(data['attr_o'])]\n",
    "\n",
    "# Convert all coded columns from floats to ints in order to use the dictionaries defined above\n",
    "data = data.assign(pid=data['pid'].astype(int))\n",
    "data = data.assign(race=data['race'].astype(int))\n",
    "data = data.assign(race_o=data['race_o'].astype(int))\n",
    "data = data.assign(age=data['age'].astype(int))\n",
    "data = data.assign(field_cd=data['field_cd'].astype(int))\n",
    "data = data.assign(career_c=data['career_c'].astype(int))\n",
    "data = data.assign(attr3_1=data['attr3_1'].astype(int))\n",
    "data = data.assign(attr_o=data['attr_o'].astype(int))\n",
    "\n",
    "# Rename some columns\n",
    "data = data.rename(index=str, columns={\"attr3_1\":\"self_perc\", \"attr_o\":\"partner_perc\"})\n",
    "\n",
    "data.head()"
   ]
  },
  {
   "cell_type": "markdown",
   "metadata": {},
   "source": [
    "<strong><h1>Exploratory Data Analysis</h1></strong>\n",
    "<br>\n",
    "Now that we have finished tidying our data, we can start performing some analyses."
   ]
  },
  {
   "cell_type": "markdown",
   "metadata": {},
   "source": [
    "We first make plots showing attractiveness based on some attributes according to the number of total matches based on that specific attribute. We first make a plot of attractiveness based on race."
   ]
  },
  {
   "cell_type": "code",
   "execution_count": 5,
   "metadata": {},
   "outputs": [
    {
     "data": {
      "image/png": "[encoded data removed]",
      "text/plain": [
       "<Figure size 432x288 with 1 Axes>"
      ]
     },
     "metadata": {},
     "output_type": "display_data"
    }
   ],
   "source": [
    "plot_index = 0\n",
    "plt.figure(plot_index)\n",
    "plot_index += 1\n",
    "\n",
    "# Add the decoded race as a new column so when the corresponding bar plot is created, it is easier to read\n",
    "races = []\n",
    "races_o = []\n",
    "for index, row in data.iterrows():\n",
    "    race_code = row['race']\n",
    "    race_o_code = row['race_o']\n",
    "    race = race_codes[race_code]\n",
    "    race_o = race_codes[race_o_code]\n",
    "    races.append(race)\n",
    "    races_o.append(race_o)\n",
    "data = data.assign(race_desc=races)\n",
    "data = data.assign(race_o_desc=races_o)\n",
    "\n",
    "data_grouped = data.groupby('race_desc')\n",
    "att_by_race = data_grouped['match'].sum().reset_index()\n",
    "att_by_race.columns = ['Race', 'Total Matches']\n",
    "\n",
    "# plot attractiveness by race\n",
    "p = sns.barplot(data=att_by_race, x='Race', y='Total Matches')\n",
    "plt.title(\"Attractiveness by Race\")\n",
    "for item in p.get_xticklabels():\n",
    "    item.set_rotation(45)\n",
    "plt.show()"
   ]
  },
  {
   "cell_type": "markdown",
   "metadata": {},
   "source": [
    "Based on this plot, it seems Europeans are the most desirable by a fair margin, followed by Asians and then Latinos/Hispanics"
   ]
  },
  {
   "cell_type": "markdown",
   "metadata": {},
   "source": [
    "Now let's see how age affects attractiveness"
   ]
  },
  {
   "cell_type": "code",
   "execution_count": 6,
   "metadata": {},
   "outputs": [
    {
     "data": {
      "image/png": "[encoded data removed]",
      "text/plain": [
       "<Figure size 432x288 with 1 Axes>"
      ]
     },
     "metadata": {},
     "output_type": "display_data"
    }
   ],
   "source": [
    "plt.figure(plot_index)\n",
    "plot_index += 1\n",
    "\n",
    "data_grouped = data.groupby('age')\n",
    "att_by_race = data_grouped['match'].sum().reset_index()\n",
    "att_by_race.columns = ['Age', 'Total Matches']\n",
    "\n",
    "# plot attractiveness by age\n",
    "p = sns.barplot(data=att_by_race, x='Age', y='Total Matches')\n",
    "plt.title(\"Attractiveness by Age\")\n",
    "plt.show()"
   ]
  },
  {
   "cell_type": "markdown",
   "metadata": {},
   "source": [
    "From this plot, it seems the most attractive people are those in their 20s"
   ]
  },
  {
   "cell_type": "markdown",
   "metadata": {},
   "source": [
    "And then let's plot by occupation"
   ]
  },
  {
   "cell_type": "code",
   "execution_count": 7,
   "metadata": {},
   "outputs": [
    {
     "data": {
      "image/png": "[encoded data removed]",
      "text/plain": [
       "<Figure size 432x288 with 1 Axes>"
      ]
     },
     "metadata": {},
     "output_type": "display_data"
    }
   ],
   "source": [
    "plt.figure(plot_index)\n",
    "plot_index += 1\n",
    "\n",
    "# Add the decoded career, or occupation, as a new column so when the corresponding bar plot is created, it is more understandable\n",
    "occupations = []\n",
    "for index, row in data.iterrows():\n",
    "    occupation_code = row['career_c']\n",
    "    occupation = career_codes[occupation_code]\n",
    "    occupations.append(occupation)\n",
    "data = data.assign(occupation=occupations)\n",
    "\n",
    "data_grouped = data.groupby('occupation')\n",
    "att_by_race = data_grouped['match'].sum().reset_index()\n",
    "att_by_race.columns = ['Occupation', 'Total Matches']\n",
    "\n",
    "# plot attractiveness by race\n",
    "p = sns.barplot(data=att_by_race, x='Occupation', y='Total Matches')\n",
    "plt.title(\"Attractiveness by Race\")\n",
    "for item in p.get_xticklabels():\n",
    "    item.set_rotation(90)\n",
    "plt.show()"
   ]
  },
  {
   "cell_type": "markdown",
   "metadata": {},
   "source": [
    "It seems people in Finance and Academia/Research are the most attractive by quite a bit, followed by Lawyers and those in Entertainment"
   ]
  },
  {
   "cell_type": "markdown",
   "metadata": {},
   "source": [
    "<strong><h1>Hypothesis Testing</h1></strong>"
   ]
  },
  {
   "cell_type": "markdown",
   "metadata": {},
   "source": [
    "While the above exploratory analyses do give an idea of the general characteristics regarding desirability, they don't really provide an idea of what it takes to be, or what makes someone, attractive. We can take the next step and try to find the factor, or factors, that really make someone desirable. Based on the analyses from above, a good starting point would be to presume matches come as a result of exterior features, such as attractiveness. So let's see if this is the case."
   ]
  },
  {
   "cell_type": "markdown",
   "metadata": {},
   "source": [
    "We will first need a scale with which to measure the effectiveness of any given factor in finding a match. For this, we will use the percentage of first dates, or pairings, that resulted in a match. Any iid's that are missing will mean that person did not find a single match."
   ]
  },
  {
   "cell_type": "code",
   "execution_count": 188,
   "metadata": {},
   "outputs": [
    {
     "data": {
      "text/html": [
       "<div>\n",
       "<style scoped>\n",
       "    .dataframe tbody tr th:only-of-type {\n",
       "        vertical-align: middle;\n",
       "    }\n",
       "\n",
       "    .dataframe tbody tr th {\n",
       "        vertical-align: top;\n",
       "    }\n",
       "\n",
       "    .dataframe thead th {\n",
       "        text-align: right;\n",
       "    }\n",
       "</style>\n",
       "<table border=\"1\" class=\"dataframe\">\n",
       "  <thead>\n",
       "    <tr style=\"text-align: right;\">\n",
       "      <th></th>\n",
       "      <th>iid</th>\n",
       "      <th>match_percentage</th>\n",
       "    </tr>\n",
       "  </thead>\n",
       "  <tbody>\n",
       "    <tr>\n",
       "      <th>0</th>\n",
       "      <td>4</td>\n",
       "      <td>0.2</td>\n",
       "    </tr>\n",
       "    <tr>\n",
       "      <th>1</th>\n",
       "      <td>5</td>\n",
       "      <td>0.2</td>\n",
       "    </tr>\n",
       "    <tr>\n",
       "      <th>2</th>\n",
       "      <td>6</td>\n",
       "      <td>0.2</td>\n",
       "    </tr>\n",
       "    <tr>\n",
       "      <th>3</th>\n",
       "      <td>7</td>\n",
       "      <td>0.2</td>\n",
       "    </tr>\n",
       "    <tr>\n",
       "      <th>4</th>\n",
       "      <td>8</td>\n",
       "      <td>0.8</td>\n",
       "    </tr>\n",
       "  </tbody>\n",
       "</table>\n",
       "</div>"
      ],
      "text/plain": [
       "   iid  match_percentage\n",
       "0    4               0.2\n",
       "1    5               0.2\n",
       "2    6               0.2\n",
       "3    7               0.2\n",
       "4    8               0.8"
      ]
     },
     "execution_count": 188,
     "metadata": {},
     "output_type": "execute_result"
    }
   ],
   "source": [
    "# Find how many total partners each person had and how many total matches they had as well\n",
    "group_by_person = data.groupby('iid')\n",
    "num_partners = group_by_person['pid'].count().reset_index()\n",
    "num_partners.columns = ['iid','num_partners']\n",
    "num_matches = group_by_person['match'].sum().reset_index()\n",
    "num_matches.columns = ['iid', 'num_matches']\n",
    "\n",
    "# Calculate the percentage of matches each person ended up getting\n",
    "match_percentages = []\n",
    "iids = []\n",
    "for index, row in num_partners.iterrows():\n",
    "    iid = row['iid']\n",
    "    iids.append(iid)\n",
    "    num_partner = row['num_partners']\n",
    "    num_match_row = num_matches.loc[num_matches['iid']==iid]\n",
    "    num_match = num_match_row['num_matches']\n",
    "    match_percentages.append(float(num_match/num_partner))\n",
    "\n",
    "# Create a dataframe to save the results\n",
    "d = {'iid':iids,'match_percentage':match_percentages}\n",
    "percentage_df = pd.DataFrame(data=d)\n",
    "percentage_df.head()"
   ]
  },
  {
   "cell_type": "markdown",
   "metadata": {},
   "source": [
    "In speed dating, two people are set up together by a third party for their \"first dates\" where they get their first impression of each other. I'm sure many of you have heard the saying \"Beauty is in the eye of the beholder\"; as such, first impressions could have a pretty big impact when it comes to finding a match. For that matter, the ability to make good first impressions can be considered a factor in attractiveness, so let's see how important first impressions, or perceived attractiveness, can be in finding a match."
   ]
  },
  {
   "cell_type": "code",
   "execution_count": 194,
   "metadata": {},
   "outputs": [
    {
     "data": {
      "image/png": "[encoded data removed]",
      "text/plain": [
       "<Figure size 432x288 with 1 Axes>"
      ]
     },
     "metadata": {},
     "output_type": "display_data"
    }
   ],
   "source": [
    "# Find the average of all columns for simplified access later on\n",
    "avg_perc = group_by_person.mean().reset_index()\n",
    "\n",
    "# Plot the match rates\n",
    "plt.figure(plot_index)\n",
    "plot_index += 1\n",
    "\n",
    "x = avg_perc['partner_perc']\n",
    "y = percentage_df['match_percentage']\n",
    "\n",
    "plt.scatter(x,y)\n",
    "b, m = polyfit(x, y, 1)\n",
    "plt.plot(x, b + m * x, '-', color='black')\n",
    "plt.xlabel('Average perceived attractiveness')\n",
    "plt.ylabel('Percentage matches')\n",
    "plt.title('Perceived Attractiveness vs. Match rate')\n",
    "plt.show()"
   ]
  },
  {
   "cell_type": "markdown",
   "metadata": {},
   "source": [
    "It seems like an increase in a person's average perceived attractiveness is associated with an increase in the person's chances of finding a match. This shouldn't come as too much of a surprise, but let's find the exact correlation to be sure."
   ]
  },
  {
   "cell_type": "code",
   "execution_count": 195,
   "metadata": {},
   "outputs": [
    {
     "data": {
      "text/plain": [
       "Intercept   -0.171038\n",
       "avg_att      0.055047\n",
       "dtype: float64"
      ]
     },
     "execution_count": 195,
     "metadata": {},
     "output_type": "execute_result"
    }
   ],
   "source": [
    "# Combine the data from the two separate dataframes into one to make it easier to perform a linear regression\n",
    "att_vs_matches_data = {'avg_att':x,'match_percentage':y}\n",
    "att_vs_matches = pd.DataFrame(data=att_vs_matches_data)\n",
    "\n",
    "# Calculate the correlation\n",
    "model = ols(formula='match_percentage ~ avg_att', data=att_vs_matches).fit()\n",
    "model.params"
   ]
  },
  {
   "cell_type": "markdown",
   "metadata": {},
   "source": [
    "So it turns out that there is only a correlation of 0.05 between a person's average perceived attractiveness and the chances of them finding a match. This is really low ... so there is probably something else that determines if a person is desirable or not."
   ]
  },
  {
   "cell_type": "markdown",
   "metadata": {},
   "source": [
    "The plot showing the relation between attractiveness and matches seems to suggest a pretty linear relationship, and yet a calculation of that model reveals a very low correlation. Those two representations may make it hard to visualize or understand why those analyses seem to contradict each other and reveal a low correlation and weak relationship. Here is another way of thinking about the problem."
   ]
  },
  {
   "cell_type": "code",
   "execution_count": 196,
   "metadata": {},
   "outputs": [
    {
     "data": {
      "image/png": "[encoded data removed]",
      "text/plain": [
       "<Figure size 432x288 with 1 Axes>"
      ]
     },
     "metadata": {},
     "output_type": "display_data"
    }
   ],
   "source": [
    "# Calculate the residuals of the model\n",
    "model_residuals = []\n",
    "predictions = model.predict()\n",
    "for index, row in att_vs_matches.iterrows():\n",
    "    match_percentage = row['match_percentage']\n",
    "    model_residuals.append(match_percentage - predictions[index])\n",
    "att_vs_matches['model_residuals'] = model_residuals\n",
    "\n",
    "# Create a scatter plot of the residuals\n",
    "plt.figure(plot_index)\n",
    "plot_index += 1\n",
    "\n",
    "x = att_vs_matches['avg_att']\n",
    "y = att_vs_matches['model_residuals']\n",
    "\n",
    "plt.scatter(x,y)\n",
    "plt.axhline(0, color='black')\n",
    "plt.xlabel('Average perceived attractiveness')\n",
    "plt.ylabel('Model residuals')\n",
    "plt.title('Perceived Attractiveness Model residuals')\n",
    "plt.show()"
   ]
  },
  {
   "cell_type": "markdown",
   "metadata": {},
   "source": [
    "This residual plot should reveal that the residuals of the predictions based on the model between attractiveness and match rates are spread out all over the place. Such a fact suggests that the given model is unable to accurately provide predictions for such a relationship."
   ]
  },
  {
   "cell_type": "markdown",
   "metadata": {},
   "source": [
    "Ok so it seems like how other people rate your attractiveness has close to no relationship in determining your chances of finding a match, what about the other way around? If a belief is that confident people are seen as more desirable, would being confident in your attractiveness make your chances of finding a match higher?"
   ]
  },
  {
   "cell_type": "code",
   "execution_count": 200,
   "metadata": {},
   "outputs": [
    {
     "data": {
      "image/png": "[encoded data removed]",
      "text/plain": [
       "<Figure size 432x288 with 1 Axes>"
      ]
     },
     "metadata": {},
     "output_type": "display_data"
    }
   ],
   "source": [
    "plt.figure(plot_index)\n",
    "plot_index += 1\n",
    "\n",
    "# Only consider the data regarding self perception\n",
    "x = avg_perc['self_perc']\n",
    "y = percentage_df['match_percentage']\n",
    "\n",
    "plt.scatter(x,y)\n",
    "plt.title(\"Self Attractiveness Perception vs. Match rate\")\n",
    "plt.xlabel(\"Self perceived attractivenss\")\n",
    "plt.ylabel(\"Percentage matches\")\n",
    "b, m = polyfit(x, y, 1)\n",
    "plt.plot(x, b + m * x, '-', color='black')\n",
    "plt.show()"
   ]
  },
  {
   "cell_type": "markdown",
   "metadata": {},
   "source": [
    "Once again there seems to be some linear relationship between self perceived attractiveness and one's chances of finding a match, but again we will find the actual correlation to be sure."
   ]
  },
  {
   "cell_type": "code",
   "execution_count": 201,
   "metadata": {},
   "outputs": [
    {
     "data": {
      "text/plain": [
       "Intercept    0.071952\n",
       "avg_att      0.013787\n",
       "dtype: float64"
      ]
     },
     "execution_count": 201,
     "metadata": {},
     "output_type": "execute_result"
    }
   ],
   "source": [
    "# Combine the data from the two separate dataframes into one to make it easier to perform a linear regression\n",
    "att_vs_matches_data = {'avg_att':x,'match_percentage':y}\n",
    "att_vs_matches = pd.DataFrame(data=att_vs_matches_data)\n",
    "\n",
    "# Calculate the correlation\n",
    "model = ols(formula='match_percentage ~ avg_att', data=att_vs_matches).fit()\n",
    "model.params"
   ]
  },
  {
   "cell_type": "markdown",
   "metadata": {},
   "source": [
    "And once again, the correlation seems to be extremely low. It seems that your attractiveness, regardless of whose perception it is based on, has pretty much no impact on finding a match."
   ]
  },
  {
   "cell_type": "markdown",
   "metadata": {},
   "source": [
    "So now that we know attraction is not the factor, or at least is not the only factor, when it comes to finding a match, this situation begs the questions: What do people look for then? As part of this event, participants were asked how much they valued certain characteristics; so let's see how they answered that question. The representation will assume males and females generally have different criteria and are thus displayed separately."
   ]
  },
  {
   "cell_type": "markdown",
   "metadata": {},
   "source": [
    "Let's first calculate the average importance people assigned to various attributes"
   ]
  },
  {
   "cell_type": "code",
   "execution_count": 202,
   "metadata": {},
   "outputs": [
    {
     "data": {
      "text/html": [
       "<div>\n",
       "<style scoped>\n",
       "    .dataframe tbody tr th:only-of-type {\n",
       "        vertical-align: middle;\n",
       "    }\n",
       "\n",
       "    .dataframe tbody tr th {\n",
       "        vertical-align: top;\n",
       "    }\n",
       "\n",
       "    .dataframe thead th {\n",
       "        text-align: right;\n",
       "    }\n",
       "</style>\n",
       "<table border=\"1\" class=\"dataframe\">\n",
       "  <thead>\n",
       "    <tr style=\"text-align: right;\">\n",
       "      <th></th>\n",
       "      <th>gender</th>\n",
       "      <th>attractive</th>\n",
       "      <th>sincere</th>\n",
       "      <th>intelligent</th>\n",
       "      <th>fun</th>\n",
       "      <th>ambitious</th>\n",
       "      <th>shared interests</th>\n",
       "    </tr>\n",
       "  </thead>\n",
       "  <tbody>\n",
       "    <tr>\n",
       "      <th>0</th>\n",
       "      <td>female</td>\n",
       "      <td>17.938358</td>\n",
       "      <td>18.252910</td>\n",
       "      <td>20.937313</td>\n",
       "      <td>17.326343</td>\n",
       "      <td>12.828993</td>\n",
       "      <td>12.697836</td>\n",
       "    </tr>\n",
       "    <tr>\n",
       "      <th>1</th>\n",
       "      <td>male</td>\n",
       "      <td>27.008864</td>\n",
       "      <td>16.389707</td>\n",
       "      <td>19.419560</td>\n",
       "      <td>17.592051</td>\n",
       "      <td>8.823956</td>\n",
       "      <td>10.982271</td>\n",
       "    </tr>\n",
       "  </tbody>\n",
       "</table>\n",
       "</div>"
      ],
      "text/plain": [
       "   gender  attractive    sincere  intelligent        fun  ambitious  \\\n",
       "0  female   17.938358  18.252910    20.937313  17.326343  12.828993   \n",
       "1    male   27.008864  16.389707    19.419560  17.592051   8.823956   \n",
       "\n",
       "   shared interests  \n",
       "0         12.697836  \n",
       "1         10.982271  "
      ]
     },
     "execution_count": 202,
     "metadata": {},
     "output_type": "execute_result"
    }
   ],
   "source": [
    "# We are creating a new dataframe, so we will need to do a little tidying first\n",
    "preferences = dating_info[['iid', 'gender','attr1_1','sinc1_1','intel1_1','fun1_1','amb1_1','shar1_1']]\n",
    "\n",
    "# Remove any missing entries\n",
    "preferences = preferences[pd.notnull(preferences['iid'])]\n",
    "preferences = preferences[pd.notnull(preferences['attr1_1'])]\n",
    "preferences = preferences[pd.notnull(preferences['sinc1_1'])]\n",
    "preferences = preferences[pd.notnull(preferences['intel1_1'])]\n",
    "preferences = preferences[pd.notnull(preferences['fun1_1'])]\n",
    "preferences = preferences[pd.notnull(preferences['amb1_1'])]\n",
    "preferences = preferences[pd.notnull(preferences['shar1_1'])]\n",
    "\n",
    "# # Convert columns from floats to ints for easier analysis\n",
    "# preferences = preferences.assign(attr1_1=preferences['attr1_1'].astype(int))\n",
    "# preferences = preferences.assign(sinc1_1=preferences['sinc1_1'].astype(int))\n",
    "# preferences = preferences.assign(intel1_1=preferences['intel1_1'].astype(int))\n",
    "# preferences = preferences.assign(fun1_1=preferences['fun1_1'].astype(int))\n",
    "# preferences = preferences.assign(amb1_1=preferences['amb1_1'].astype(int))\n",
    "# preferences = preferences.assign(shar1_1=preferences['shar1_1'].astype(int))\n",
    "\n",
    "# Rename columns for better readability\n",
    "preferences = preferences.rename(index=str, columns={\"attr1_1\":\"attractive\", \"sinc1_1\":\"sincere\", \"intel1_1\":\"intelligent\",\n",
    "                                                    \"fun1_1\":\"fun\", \"amb1_1\":\"ambitious\",\"shar1_1\":\"shared interests\"})\n",
    "\n",
    "# Remove duplicates\n",
    "preferences = preferences.groupby('iid')\n",
    "preferences = preferences.head(1)\n",
    "\n",
    "# Calculate averages for each gender\n",
    "preferences_grouped = preferences.groupby(['gender'])\n",
    "avg_preferences = preferences_grouped.mean().reset_index()\n",
    "\n",
    "# Drop the unneeded column\n",
    "avg_preferences.drop(['iid'], axis=1, inplace=True)\n",
    "\n",
    "# Decode genders for increased readability\n",
    "genders = []\n",
    "for index, row in avg_preferences.iterrows():\n",
    "    gender_code = row['gender']\n",
    "    gender = gender_codes[gender_code]\n",
    "    genders.append(gender)\n",
    "\n",
    "avg_preferences = avg_preferences.assign(gender=genders)\n",
    "\n",
    "avg_preferences"
   ]
  },
  {
   "cell_type": "markdown",
   "metadata": {},
   "source": [
    "And now let's graph it to get a better visual understanding of what the participants' preferences were."
   ]
  },
  {
   "cell_type": "code",
   "execution_count": 203,
   "metadata": {},
   "outputs": [
    {
     "data": {
      "text/plain": [
       "<seaborn.axisgrid.FacetGrid at 0x7fc467ac0eb8>"
      ]
     },
     "execution_count": 203,
     "metadata": {},
     "output_type": "execute_result"
    },
    {
     "data": {
      "image/png": "[encoded data removed]",
      "text/plain": [
       "<Figure size 430.5x360 with 1 Axes>"
      ]
     },
     "metadata": {},
     "output_type": "display_data"
    }
   ],
   "source": [
    "# Create a holder dataframe without the gender column as that is not one of the attributes that will be considered\n",
    "temp = avg_preferences.drop(['gender'], axis=1)\n",
    "\n",
    "# Transpose the data about attribute preferences in order to create a catplot of the data later on\n",
    "columns = list(temp)\n",
    "attributes = []\n",
    "gender = []\n",
    "values = []\n",
    "for index, row in avg_preferences.iterrows():\n",
    "    attributes = attributes + columns\n",
    "    gender = gender + [row['gender']]*len(columns)\n",
    "    values = values + list(temp.iloc[index])\n",
    "\n",
    "# Create a dataframe based on the transposed data. Feel free to print the contents of this dataframe to see how the new dataframe\n",
    "# organizes the original data\n",
    "d = {'attributes':attributes,'genders':gender,'average importance rating':values}\n",
    "df = pd.DataFrame(data=d)\n",
    "\n",
    "# Create the double barplot, or catplot, of the preferences between the genders\n",
    "plot = sns.catplot(x='attributes', y='average importance rating', hue='genders', data=df, kind='bar')\n",
    "plot.fig.suptitle(\"What do people look for in the opposite sex\")\n",
    "plot.set_xticklabels(rotation=30)\n",
    "plot"
   ]
  },
  {
   "cell_type": "markdown",
   "metadata": {},
   "source": [
    "Ahh...There we go. So judging from this graph, it seems like people generally look for an individual with a variety of traits; men put a heavier emphasis on attractiveness whereas women prefer their partners to have more of a balance among the various attributes."
   ]
  },
  {
   "cell_type": "markdown",
   "metadata": {},
   "source": [
    "Well now that we know people generally look for other characteristics in addition to just basic attractiveness, let's make sure that the characteristics of the partners people end up matching with are in line with their initial preferences. If this is the case, then we would have a basis with which to predict a person's chances of finding a match."
   ]
  },
  {
   "cell_type": "markdown",
   "metadata": {},
   "source": [
    "In order to perform this evaluation, we will need some new information."
   ]
  },
  {
   "cell_type": "code",
   "execution_count": 61,
   "metadata": {},
   "outputs": [
    {
     "data": {
      "text/html": [
       "<div>\n",
       "<style scoped>\n",
       "    .dataframe tbody tr th:only-of-type {\n",
       "        vertical-align: middle;\n",
       "    }\n",
       "\n",
       "    .dataframe tbody tr th {\n",
       "        vertical-align: top;\n",
       "    }\n",
       "\n",
       "    .dataframe thead th {\n",
       "        text-align: right;\n",
       "    }\n",
       "</style>\n",
       "<table border=\"1\" class=\"dataframe\">\n",
       "  <thead>\n",
       "    <tr style=\"text-align: right;\">\n",
       "      <th></th>\n",
       "      <th>match</th>\n",
       "      <th>pf_o_att</th>\n",
       "      <th>pf_o_sin</th>\n",
       "      <th>pf_o_int</th>\n",
       "      <th>pf_o_fun</th>\n",
       "      <th>pf_o_amb</th>\n",
       "      <th>pf_o_sha</th>\n",
       "      <th>attr_o</th>\n",
       "      <th>sinc_o</th>\n",
       "      <th>intel_o</th>\n",
       "      <th>fun_o</th>\n",
       "      <th>amb_o</th>\n",
       "      <th>shar_o</th>\n",
       "    </tr>\n",
       "  </thead>\n",
       "  <tbody>\n",
       "    <tr>\n",
       "      <th>0</th>\n",
       "      <td>0</td>\n",
       "      <td>35.0</td>\n",
       "      <td>20.0</td>\n",
       "      <td>20.0</td>\n",
       "      <td>20.0</td>\n",
       "      <td>0.0</td>\n",
       "      <td>5.0</td>\n",
       "      <td>6.0</td>\n",
       "      <td>8.0</td>\n",
       "      <td>8.0</td>\n",
       "      <td>8.0</td>\n",
       "      <td>8.0</td>\n",
       "      <td>6.0</td>\n",
       "    </tr>\n",
       "    <tr>\n",
       "      <th>1</th>\n",
       "      <td>0</td>\n",
       "      <td>60.0</td>\n",
       "      <td>0.0</td>\n",
       "      <td>0.0</td>\n",
       "      <td>40.0</td>\n",
       "      <td>0.0</td>\n",
       "      <td>0.0</td>\n",
       "      <td>7.0</td>\n",
       "      <td>8.0</td>\n",
       "      <td>10.0</td>\n",
       "      <td>7.0</td>\n",
       "      <td>7.0</td>\n",
       "      <td>5.0</td>\n",
       "    </tr>\n",
       "    <tr>\n",
       "      <th>2</th>\n",
       "      <td>1</td>\n",
       "      <td>19.0</td>\n",
       "      <td>18.0</td>\n",
       "      <td>19.0</td>\n",
       "      <td>18.0</td>\n",
       "      <td>14.0</td>\n",
       "      <td>12.0</td>\n",
       "      <td>10.0</td>\n",
       "      <td>10.0</td>\n",
       "      <td>10.0</td>\n",
       "      <td>10.0</td>\n",
       "      <td>10.0</td>\n",
       "      <td>10.0</td>\n",
       "    </tr>\n",
       "    <tr>\n",
       "      <th>3</th>\n",
       "      <td>1</td>\n",
       "      <td>30.0</td>\n",
       "      <td>5.0</td>\n",
       "      <td>15.0</td>\n",
       "      <td>40.0</td>\n",
       "      <td>5.0</td>\n",
       "      <td>5.0</td>\n",
       "      <td>7.0</td>\n",
       "      <td>8.0</td>\n",
       "      <td>9.0</td>\n",
       "      <td>8.0</td>\n",
       "      <td>9.0</td>\n",
       "      <td>8.0</td>\n",
       "    </tr>\n",
       "    <tr>\n",
       "      <th>4</th>\n",
       "      <td>1</td>\n",
       "      <td>30.0</td>\n",
       "      <td>10.0</td>\n",
       "      <td>20.0</td>\n",
       "      <td>10.0</td>\n",
       "      <td>10.0</td>\n",
       "      <td>20.0</td>\n",
       "      <td>8.0</td>\n",
       "      <td>7.0</td>\n",
       "      <td>9.0</td>\n",
       "      <td>6.0</td>\n",
       "      <td>9.0</td>\n",
       "      <td>7.0</td>\n",
       "    </tr>\n",
       "  </tbody>\n",
       "</table>\n",
       "</div>"
      ],
      "text/plain": [
       "   match  pf_o_att  pf_o_sin  pf_o_int  pf_o_fun  pf_o_amb  pf_o_sha  attr_o  \\\n",
       "0      0      35.0      20.0      20.0      20.0       0.0       5.0     6.0   \n",
       "1      0      60.0       0.0       0.0      40.0       0.0       0.0     7.0   \n",
       "2      1      19.0      18.0      19.0      18.0      14.0      12.0    10.0   \n",
       "3      1      30.0       5.0      15.0      40.0       5.0       5.0     7.0   \n",
       "4      1      30.0      10.0      20.0      10.0      10.0      20.0     8.0   \n",
       "\n",
       "   sinc_o  intel_o  fun_o  amb_o  shar_o  \n",
       "0     8.0      8.0    8.0    8.0     6.0  \n",
       "1     8.0     10.0    7.0    7.0     5.0  \n",
       "2    10.0     10.0   10.0   10.0    10.0  \n",
       "3     8.0      9.0    8.0    9.0     8.0  \n",
       "4     7.0      9.0    6.0    9.0     7.0  "
      ]
     },
     "execution_count": 61,
     "metadata": {},
     "output_type": "execute_result"
    }
   ],
   "source": [
    "# We will be using a new subset of data, so we must tidy the data again\n",
    "statedPref_vs_actualRating = dating_info[['match','pf_o_att','pf_o_sin','pf_o_int','pf_o_fun','pf_o_amb','pf_o_sha',\n",
    "                                          'attr_o','sinc_o','intel_o','fun_o','amb_o','shar_o']]\n",
    "# Remove any missing data\n",
    "statedPref_vs_actualRating = statedPref_vs_actualRating[pd.notnull(statedPref_vs_actualRating['pf_o_att'])]\n",
    "statedPref_vs_actualRating = statedPref_vs_actualRating[pd.notnull(statedPref_vs_actualRating['pf_o_sin'])]\n",
    "statedPref_vs_actualRating = statedPref_vs_actualRating[pd.notnull(statedPref_vs_actualRating['pf_o_int'])]\n",
    "statedPref_vs_actualRating = statedPref_vs_actualRating[pd.notnull(statedPref_vs_actualRating['pf_o_fun'])]\n",
    "statedPref_vs_actualRating = statedPref_vs_actualRating[pd.notnull(statedPref_vs_actualRating['pf_o_amb'])]\n",
    "statedPref_vs_actualRating = statedPref_vs_actualRating[pd.notnull(statedPref_vs_actualRating['pf_o_sha'])]\n",
    "statedPref_vs_actualRating = statedPref_vs_actualRating[pd.notnull(statedPref_vs_actualRating['attr_o'])]\n",
    "statedPref_vs_actualRating = statedPref_vs_actualRating[pd.notnull(statedPref_vs_actualRating['sinc_o'])]\n",
    "statedPref_vs_actualRating = statedPref_vs_actualRating[pd.notnull(statedPref_vs_actualRating['intel_o'])]\n",
    "statedPref_vs_actualRating = statedPref_vs_actualRating[pd.notnull(statedPref_vs_actualRating['fun_o'])]\n",
    "statedPref_vs_actualRating = statedPref_vs_actualRating[pd.notnull(statedPref_vs_actualRating['amb_o'])]\n",
    "statedPref_vs_actualRating = statedPref_vs_actualRating[pd.notnull(statedPref_vs_actualRating['shar_o'])]\n",
    "\n",
    "statedPref_vs_actualRating.head()"
   ]
  },
  {
   "cell_type": "markdown",
   "metadata": {},
   "source": [
    "If upon examining the table entries it feels like the numbers in the first half of the columns seem consistently larger than those in the second set of columns, that is because they were based on different scales. In order to account for the difference in scoring scales, we must standardized the data."
   ]
  },
  {
   "cell_type": "code",
   "execution_count": 209,
   "metadata": {},
   "outputs": [
    {
     "data": {
      "text/html": [
       "<div>\n",
       "<style scoped>\n",
       "    .dataframe tbody tr th:only-of-type {\n",
       "        vertical-align: middle;\n",
       "    }\n",
       "\n",
       "    .dataframe tbody tr th {\n",
       "        vertical-align: top;\n",
       "    }\n",
       "\n",
       "    .dataframe thead th {\n",
       "        text-align: right;\n",
       "    }\n",
       "</style>\n",
       "<table border=\"1\" class=\"dataframe\">\n",
       "  <thead>\n",
       "    <tr style=\"text-align: right;\">\n",
       "      <th></th>\n",
       "      <th>pf_att</th>\n",
       "      <th>pf_sin</th>\n",
       "      <th>pf_int</th>\n",
       "      <th>pf_fun</th>\n",
       "      <th>pf_amb</th>\n",
       "      <th>pf_sha</th>\n",
       "      <th>attr_o</th>\n",
       "      <th>sinc_o</th>\n",
       "      <th>intel_o</th>\n",
       "      <th>fun_o</th>\n",
       "      <th>amb_o</th>\n",
       "      <th>shar_o</th>\n",
       "    </tr>\n",
       "  </thead>\n",
       "  <tbody>\n",
       "    <tr>\n",
       "      <th>0</th>\n",
       "      <td>0.274890</td>\n",
       "      <td>0.175935</td>\n",
       "      <td>0.232634</td>\n",
       "      <td>0.000415</td>\n",
       "      <td>0.515563</td>\n",
       "      <td>0.133359</td>\n",
       "      <td>1.692939</td>\n",
       "      <td>1.511017</td>\n",
       "      <td>1.637322</td>\n",
       "      <td>1.600196</td>\n",
       "      <td>1.684163</td>\n",
       "      <td>1.761321</td>\n",
       "    </tr>\n",
       "    <tr>\n",
       "      <th>1</th>\n",
       "      <td>0.537096</td>\n",
       "      <td>1.711526</td>\n",
       "      <td>0.875972</td>\n",
       "      <td>3.412385</td>\n",
       "      <td>0.959175</td>\n",
       "      <td>0.965465</td>\n",
       "      <td>0.199542</td>\n",
       "      <td>0.134223</td>\n",
       "      <td>0.838384</td>\n",
       "      <td>0.270409</td>\n",
       "      <td>1.052767</td>\n",
       "      <td>0.682086</td>\n",
       "    </tr>\n",
       "    <tr>\n",
       "      <th>2</th>\n",
       "      <td>0.537096</td>\n",
       "      <td>0.985579</td>\n",
       "      <td>0.071799</td>\n",
       "      <td>1.241434</td>\n",
       "      <td>0.139876</td>\n",
       "      <td>1.389157</td>\n",
       "      <td>0.431285</td>\n",
       "      <td>0.554174</td>\n",
       "      <td>0.838384</td>\n",
       "      <td>1.059379</td>\n",
       "      <td>1.052767</td>\n",
       "      <td>0.142468</td>\n",
       "    </tr>\n",
       "    <tr>\n",
       "      <th>3</th>\n",
       "      <td>2.013432</td>\n",
       "      <td>2.437472</td>\n",
       "      <td>0.732373</td>\n",
       "      <td>1.241434</td>\n",
       "      <td>1.778474</td>\n",
       "      <td>0.604283</td>\n",
       "      <td>0.199542</td>\n",
       "      <td>0.554174</td>\n",
       "      <td>0.039445</td>\n",
       "      <td>0.270409</td>\n",
       "      <td>0.421371</td>\n",
       "      <td>1.221704</td>\n",
       "    </tr>\n",
       "    <tr>\n",
       "      <th>4</th>\n",
       "      <td>0.537096</td>\n",
       "      <td>1.711526</td>\n",
       "      <td>0.875972</td>\n",
       "      <td>3.412385</td>\n",
       "      <td>0.959175</td>\n",
       "      <td>0.965465</td>\n",
       "      <td>1.062112</td>\n",
       "      <td>0.822620</td>\n",
       "      <td>0.838384</td>\n",
       "      <td>0.935302</td>\n",
       "      <td>1.052767</td>\n",
       "      <td>1.221704</td>\n",
       "    </tr>\n",
       "  </tbody>\n",
       "</table>\n",
       "</div>"
      ],
      "text/plain": [
       "     pf_att    pf_sin    pf_int    pf_fun    pf_amb    pf_sha    attr_o  \\\n",
       "0  0.274890  0.175935  0.232634  0.000415  0.515563  0.133359  1.692939   \n",
       "1  0.537096  1.711526  0.875972  3.412385  0.959175  0.965465  0.199542   \n",
       "2  0.537096  0.985579  0.071799  1.241434  0.139876  1.389157  0.431285   \n",
       "3  2.013432  2.437472  0.732373  1.241434  1.778474  0.604283  0.199542   \n",
       "4  0.537096  1.711526  0.875972  3.412385  0.959175  0.965465  1.062112   \n",
       "\n",
       "     sinc_o   intel_o     fun_o     amb_o    shar_o  \n",
       "0  1.511017  1.637322  1.600196  1.684163  1.761321  \n",
       "1  0.134223  0.838384  0.270409  1.052767  0.682086  \n",
       "2  0.554174  0.838384  1.059379  1.052767  0.142468  \n",
       "3  0.554174  0.039445  0.270409  0.421371  1.221704  \n",
       "4  0.822620  0.838384  0.935302  1.052767  1.221704  "
      ]
     },
     "execution_count": 209,
     "metadata": {},
     "output_type": "execute_result"
    }
   ],
   "source": [
    "# We will only need to consider the matches\n",
    "statedPref_vs_actualRating = statedPref_vs_actualRating[statedPref_vs_actualRating['match']==1]\n",
    "\n",
    "# Calculate the means and standard deviations of the initial preferences\n",
    "pf_att_mean = statedPref_vs_actualRating['pf_o_att'].mean()\n",
    "pf_att_std = statedPref_vs_actualRating['pf_o_att'].std()\n",
    "pf_sin_mean = statedPref_vs_actualRating['pf_o_sin'].mean()\n",
    "pf_sin_std = statedPref_vs_actualRating['pf_o_sin'].std()\n",
    "pf_int_mean = statedPref_vs_actualRating['pf_o_int'].mean()\n",
    "pf_int_std = statedPref_vs_actualRating['pf_o_int'].std()\n",
    "pf_fun_mean = statedPref_vs_actualRating['pf_o_fun'].mean()\n",
    "pf_fun_std = statedPref_vs_actualRating['pf_o_fun'].std()\n",
    "pf_amb_mean = statedPref_vs_actualRating['pf_o_amb'].mean()\n",
    "pf_amb_std = statedPref_vs_actualRating['pf_o_amb'].std()\n",
    "pf_sha_mean = statedPref_vs_actualRating['pf_o_sha'].mean()\n",
    "pf_sha_std = statedPref_vs_actualRating['pf_o_sha'].std()\n",
    "\n",
    "# Calculate the means and standard deviations of the actual ratings people gave to their partners that they matched with\n",
    "attr_mean = statedPref_vs_actualRating['attr_o'].mean()\n",
    "attr_std = statedPref_vs_actualRating['attr_o'].std()\n",
    "sinc_mean = statedPref_vs_actualRating['sinc_o'].mean()\n",
    "sinc_std = statedPref_vs_actualRating['sinc_o'].std()\n",
    "intel_mean = statedPref_vs_actualRating['intel_o'].mean()\n",
    "intel_std = statedPref_vs_actualRating['intel_o'].std()\n",
    "fun_mean = statedPref_vs_actualRating['fun_o'].mean()\n",
    "fun_std = statedPref_vs_actualRating['fun_o'].std()\n",
    "amb_mean = statedPref_vs_actualRating['amb_o'].mean()\n",
    "amb_std = statedPref_vs_actualRating['amb_o'].std()\n",
    "shar_mean = statedPref_vs_actualRating['shar_o'].mean()\n",
    "shar_std = statedPref_vs_actualRating['shar_o'].std()\n",
    "\n",
    "attPref_stand = []\n",
    "sinPref_stand = []\n",
    "intPref_stand = []\n",
    "funPref_stand = []\n",
    "ambPref_stand = []\n",
    "shaPref_stand = []\n",
    "attr_stand = []\n",
    "sinc_stand = []\n",
    "intel_stand = []\n",
    "fun_stand = []\n",
    "amb_stand = []\n",
    "shar_stand = []\n",
    "\n",
    "# Standardize the values in each entry by subtracting the entry by the mean of that column and then dividing by the standard\n",
    "# deviation\n",
    "for index, row in statedPref_vs_actualRating.drop(['match'],axis=1).iterrows():\n",
    "    attPref_stand.append(abs((row['pf_o_att']-pf_att_mean)/pf_att_std))\n",
    "    sinPref_stand.append(abs((row['pf_o_sin']-pf_sin_mean)/pf_sin_std))\n",
    "    intPref_stand.append(abs((row['pf_o_int']-pf_int_mean)/pf_int_std))\n",
    "    funPref_stand.append(abs((row['pf_o_fun']-pf_fun_mean)/pf_fun_std))\n",
    "    ambPref_stand.append(abs((row['pf_o_amb']-pf_amb_mean)/pf_amb_std))\n",
    "    shaPref_stand.append(abs((row['pf_o_sha']-pf_sha_mean)/pf_sha_std))\n",
    "    attr_stand.append(abs((row['attr_o']-attr_mean)/attr_std))\n",
    "    sinc_stand.append(abs((row['sinc_o']-sinc_mean)/sinc_std))\n",
    "    intel_stand.append(abs((row['intel_o']-intel_mean)/intel_std))\n",
    "    fun_stand.append(abs((row['fun_o']-fun_mean)/fun_std))\n",
    "    amb_stand.append(abs((row['amb_o']-amb_mean)/amb_std))\n",
    "    shar_stand.append(abs((row['shar_o']-shar_mean)/shar_std))\n",
    "\n",
    "d = {'pf_att':attPref_stand,'pf_sin':sinPref_stand,'pf_int':intPref_stand,'pf_fun':funPref_stand,'pf_amb':ambPref_stand,\n",
    "    'pf_sha':shaPref_stand,'attr_o':attr_stand,'sinc_o':sinc_stand,'intel_o':intel_stand,'fun_o':fun_stand,'amb_o':amb_stand,\n",
    "    'shar_o':shar_stand}\n",
    "standardized_pref_vs_actual = pd.DataFrame(data=d)\n",
    "standardized_pref_vs_actual.head()"
   ]
  },
  {
   "cell_type": "markdown",
   "metadata": {},
   "source": [
    "With the data standardized, we can now look for any correlation between a person's initial preferences and whether their match choices reflected those preferences. We will first start with attractiveness."
   ]
  },
  {
   "cell_type": "code",
   "execution_count": 215,
   "metadata": {},
   "outputs": [
    {
     "data": {
      "image/png": "[encoded data removed]",
      "text/plain": [
       "<Figure size 432x288 with 1 Axes>"
      ]
     },
     "metadata": {},
     "output_type": "display_data"
    }
   ],
   "source": [
    "stated_preferences = standardized_pref_vs_actual[['pf_att','pf_sin','pf_int','pf_fun','pf_amb','pf_sha']]\n",
    "ratings_given = standardized_pref_vs_actual[['attr_o','sinc_o','intel_o','fun_o','amb_o','shar_o']]\n",
    "\n",
    "plt.figure(plot_index)\n",
    "plot_index += 1\n",
    "\n",
    "# Scatter plot of preferred attractiveness vs actual rating given for their attractiveness\n",
    "x = stated_preferences['pf_att']\n",
    "y = ratings_given['attr_o']\n",
    "plt.scatter(x,y)\n",
    "plt.title(\"Stated attractiveness preferred and Actual rating given\")\n",
    "plt.xlabel(\"Stated preference standardized\")\n",
    "plt.ylabel(\"Actual rating given standardized\")\n",
    "b, m = polyfit(x, y, 1)\n",
    "plt.plot(x, b + m * x, '-', color='black')\n",
    "plt.show()"
   ]
  },
  {
   "cell_type": "markdown",
   "metadata": {},
   "source": [
    "Hmm...glancing at this graph, it appears that regardless of a person's stated preference in attractiveness, they all seem to end up matching with people of the same attractiveness."
   ]
  },
  {
   "cell_type": "markdown",
   "metadata": {},
   "source": [
    "Let's calculate the correlation just to make sure."
   ]
  },
  {
   "cell_type": "code",
   "execution_count": 216,
   "metadata": {},
   "outputs": [
    {
     "data": {
      "text/plain": [
       "Intercept    0.750473\n",
       "prefs        0.063462\n",
       "dtype: float64"
      ]
     },
     "execution_count": 216,
     "metadata": {},
     "output_type": "execute_result"
    }
   ],
   "source": [
    "# Store variables in dataframe for correlation calculation\n",
    "pref_vs_actual_data = {'prefs':x,'rating':y}\n",
    "pref_vs_actual = pd.DataFrame(data=pref_vs_actual_data)\n",
    "\n",
    "# Calculate the correlation\n",
    "model = ols(formula='rating ~ prefs', data=pref_vs_actual).fit()\n",
    "model.params"
   ]
  },
  {
   "cell_type": "markdown",
   "metadata": {},
   "source": [
    "So it seems people don't really match with people who meet their stated attractiveness preference."
   ]
  },
  {
   "cell_type": "markdown",
   "metadata": {},
   "source": [
    "At this point, it seems that attractiveness may not be much of a factor in determining match success. Let's consider the other characteristics that the participants were asked then, starting with their preferred sincerity in their match."
   ]
  },
  {
   "cell_type": "code",
   "execution_count": 217,
   "metadata": {},
   "outputs": [
    {
     "data": {
      "image/png": "[encoded data removed]",
      "text/plain": [
       "<Figure size 432x288 with 1 Axes>"
      ]
     },
     "metadata": {},
     "output_type": "display_data"
    }
   ],
   "source": [
    "plt.figure(plot_index)\n",
    "plot_index += 1\n",
    "\n",
    "x = stated_preferences['pf_sin']\n",
    "y = ratings_given['sinc_o']\n",
    "plt.scatter(x,y)\n",
    "plt.title(\"Stated sincerity preferred vs. Actual rating given\")\n",
    "plt.xlabel(\"Stated preference standardized\")\n",
    "plt.ylabel(\"Actual rating given standardized\")\n",
    "b, m = polyfit(x, y, 1)\n",
    "plt.plot(x, b + m * x, '-', color='black')\n",
    "plt.show()"
   ]
  },
  {
   "cell_type": "markdown",
   "metadata": {},
   "source": [
    "This plot already makes it seem like stated sincerity preferrence does not have any influence in finding a match. But once again, we will calculate the actual correlation."
   ]
  },
  {
   "cell_type": "code",
   "execution_count": 218,
   "metadata": {},
   "outputs": [
    {
     "data": {
      "text/plain": [
       "Intercept    0.743985\n",
       "prefs        0.039928\n",
       "dtype: float64"
      ]
     },
     "execution_count": 218,
     "metadata": {},
     "output_type": "execute_result"
    }
   ],
   "source": [
    "pref_vs_actual_data = {'prefs':x,'rating':y}\n",
    "pref_vs_actual = pd.DataFrame(data=pref_vs_actual_data)\n",
    "\n",
    "# Calculate the correlation\n",
    "model = ols(formula='rating ~ prefs', data=pref_vs_actual).fit()\n",
    "model.params"
   ]
  },
  {
   "cell_type": "markdown",
   "metadata": {},
   "source": [
    "Almost no correlation."
   ]
  },
  {
   "cell_type": "markdown",
   "metadata": {},
   "source": [
    "Next let's look at intelligence."
   ]
  },
  {
   "cell_type": "code",
   "execution_count": 224,
   "metadata": {},
   "outputs": [
    {
     "data": {
      "image/png": "[encoded data removed]",
      "text/plain": [
       "<Figure size 432x288 with 1 Axes>"
      ]
     },
     "metadata": {},
     "output_type": "display_data"
    }
   ],
   "source": [
    "plt.figure(plot_index)\n",
    "plot_index += 1\n",
    "\n",
    "x = stated_preferences['pf_int']\n",
    "y = ratings_given['intel_o']\n",
    "plt.scatter(x,y)\n",
    "plt.title(\"Stated intelligence preferred vs. Actual rating given\")\n",
    "plt.xlabel(\"Stated preferrence standardized\")\n",
    "plt.ylabel(\"Actual rating given standardized\")\n",
    "b, m = polyfit(x, y, 1)\n",
    "plt.plot(x, b + m * x, '-', color='black')\n",
    "plt.show()"
   ]
  },
  {
   "cell_type": "markdown",
   "metadata": {},
   "source": [
    "Ok. So it seems that stated preferrence in intelligence does somewhat line up with the intelligence of the people they end up matching with."
   ]
  },
  {
   "cell_type": "code",
   "execution_count": 220,
   "metadata": {},
   "outputs": [
    {
     "data": {
      "text/plain": [
       "Intercept    0.693825\n",
       "prefs        0.112775\n",
       "dtype: float64"
      ]
     },
     "execution_count": 220,
     "metadata": {},
     "output_type": "execute_result"
    }
   ],
   "source": [
    "pref_vs_actual_data = {'prefs':x,'rating':y}\n",
    "pref_vs_actual = pd.DataFrame(data=pref_vs_actual_data)\n",
    "\n",
    "# Calculate the correlation\n",
    "model = ols(formula='rating ~ prefs', data=pref_vs_actual).fit()\n",
    "model.params"
   ]
  },
  {
   "cell_type": "markdown",
   "metadata": {},
   "source": [
    "So the correlation between stated preference and actual is slightly higher for intelligence than it was for attractiveness and sincerity, but the correlation is still very low. At this point, intelligence can probably only be considered a factor of very little importance in finding a match."
   ]
  },
  {
   "cell_type": "markdown",
   "metadata": {},
   "source": [
    "Let's now look at the correlation for how fun a person is. Do note that while the previous characteristics definitely had a fair amount of bias in their ratings, there was at least a relative amount of objectivity in the definition of the characteristic, as there are some aspects of them that are generally agreed upon universally. For this characteristic, however, everyone's definition could be considerably different, so any correlation found would be subject to different people's perspectives."
   ]
  },
  {
   "cell_type": "code",
   "execution_count": 227,
   "metadata": {},
   "outputs": [
    {
     "data": {
      "image/png": "[encoded data removed]",
      "text/plain": [
       "<Figure size 432x288 with 1 Axes>"
      ]
     },
     "metadata": {},
     "output_type": "display_data"
    }
   ],
   "source": [
    "plt.figure(plot_index)\n",
    "plot_index += 1\n",
    "\n",
    "x = stated_preferences['pf_fun']\n",
    "y = ratings_given['fun_o']\n",
    "plt.scatter(x,y)\n",
    "plt.title(\"Stated fun preferred vs Actual rating given\")\n",
    "plt.xlabel(\"Stated prefference standardized\")\n",
    "plt.ylabel(\"Actual rating given standardized\")\n",
    "b, m = polyfit(x, y, 1)\n",
    "plt.plot(x, b + m * x, '-', color='black')\n",
    "plt.show()"
   ]
  },
  {
   "cell_type": "markdown",
   "metadata": {},
   "source": [
    "This relationship seems similar to that of attractiveness so let's verify."
   ]
  },
  {
   "cell_type": "code",
   "execution_count": 228,
   "metadata": {},
   "outputs": [
    {
     "data": {
      "text/plain": [
       "Intercept    0.760062\n",
       "prefs        0.052782\n",
       "dtype: float64"
      ]
     },
     "execution_count": 228,
     "metadata": {},
     "output_type": "execute_result"
    }
   ],
   "source": [
    "pref_vs_actual_data = {'prefs':x,'rating':y}\n",
    "pref_vs_actual = pd.DataFrame(data=pref_vs_actual_data)\n",
    "\n",
    "# Calculate the correlation\n",
    "model = ols(formula='rating ~ prefs', data=pref_vs_actual).fit()\n",
    "model.params"
   ]
  },
  {
   "cell_type": "markdown",
   "metadata": {},
   "source": [
    "And indeed, the correlation between the stated preferrence and actual rating of fun is very close to that of attractiveness, meaning again people did not really match with their initial preferrence for fun."
   ]
  },
  {
   "cell_type": "code",
   "execution_count": 229,
   "metadata": {},
   "outputs": [
    {
     "data": {
      "image/png": "[encoded data removed]",
      "text/plain": [
       "<Figure size 432x288 with 1 Axes>"
      ]
     },
     "metadata": {},
     "output_type": "display_data"
    },
    {
     "data": {
      "text/plain": [
       "Intercept    0.756003\n",
       "prefs        0.059711\n",
       "dtype: float64"
      ]
     },
     "execution_count": 229,
     "metadata": {},
     "output_type": "execute_result"
    }
   ],
   "source": [
    "plt.figure(plot_index)\n",
    "plot_index += 1\n",
    "\n",
    "x = stated_preferences['pf_amb']\n",
    "y = ratings_given['amb_o']\n",
    "plt.scatter(x,y)\n",
    "plt.title(\"Stated ambition preferred vs Actual rating given\")\n",
    "plt.xlabel(\"Stated preferrence standardized\")\n",
    "plt.ylabel(\"Actual rating given standardized\")\n",
    "b, m = polyfit(x, y, 1)\n",
    "plt.plot(x, b + m * x, '-', color='black')\n",
    "plt.show()\n",
    "\n",
    "pref_vs_actual_data = {'prefs':x,'rating':y}\n",
    "pref_vs_actual = pd.DataFrame(data=pref_vs_actual_data)\n",
    "\n",
    "# Calculate the correlation\n",
    "model = ols(formula='rating ~ prefs', data=pref_vs_actual).fit()\n",
    "model.params"
   ]
  },
  {
   "cell_type": "markdown",
   "metadata": {},
   "source": [
    "The correlation between stated ambition preferrence and matches is almost identical to that of fun, so we would come to the same conclusion about this characteristic as we did for fun."
   ]
  },
  {
   "cell_type": "code",
   "execution_count": 230,
   "metadata": {},
   "outputs": [
    {
     "data": {
      "image/png": "[encoded data removed]",
      "text/plain": [
       "<Figure size 432x288 with 1 Axes>"
      ]
     },
     "metadata": {},
     "output_type": "display_data"
    },
    {
     "data": {
      "text/plain": [
       "Intercept    0.779169\n",
       "prefs        0.004789\n",
       "dtype: float64"
      ]
     },
     "execution_count": 230,
     "metadata": {},
     "output_type": "execute_result"
    }
   ],
   "source": [
    "plt.figure(plot_index)\n",
    "plot_index += 1\n",
    "\n",
    "x = stated_preferences['pf_sha']\n",
    "y = ratings_given['shar_o']\n",
    "plt.scatter(x,y)\n",
    "plt.title(\"Stated shared interest preferred vs Actual rating given\")\n",
    "plt.xlabel(\"Stated preferrence standardized\")\n",
    "plt.ylabel(\"Actual rating given standardized\")\n",
    "b, m = polyfit(x, y, 1)\n",
    "plt.plot(x, b + m * x, '-', color='black')\n",
    "plt.show()\n",
    "\n",
    "pref_vs_actual_data = {'prefs':x,'rating':y}\n",
    "pref_vs_actual = pd.DataFrame(data=pref_vs_actual_data)\n",
    "\n",
    "# Calculate the correlation\n",
    "model = ols(formula='rating ~ prefs', data=pref_vs_actual).fit()\n",
    "model.params"
   ]
  },
  {
   "cell_type": "markdown",
   "metadata": {},
   "source": [
    "Well it seems like people completely didn't care whether their matches had the same shared interests."
   ]
  },
  {
   "cell_type": "markdown",
   "metadata": {},
   "source": [
    "Since people don't hold too much importance in their matches having the same rating for any characteristic as their stated preferrences, maybe they consider the set of attributes as one single entity, and look for people that fit their preferrences as a whole. We will represent the combination of all the attributes as an average of the ratings of all attributes."
   ]
  },
  {
   "cell_type": "code",
   "execution_count": 231,
   "metadata": {},
   "outputs": [
    {
     "data": {
      "image/png": "[encoded data removed]",
      "text/plain": [
       "<Figure size 432x288 with 1 Axes>"
      ]
     },
     "metadata": {},
     "output_type": "display_data"
    }
   ],
   "source": [
    "# Calculate the averages across each row\n",
    "preference_avgs = stated_preferences.mean(axis=1)\n",
    "ratings_avgs = ratings_given.mean(axis=1)\n",
    "\n",
    "plt.figure(plot_index)\n",
    "plot_index += 1\n",
    "\n",
    "x = preference_avgs\n",
    "y = ratings_avgs\n",
    "\n",
    "plt.scatter(x,y)\n",
    "plt.title(\"Stated preferrences combined vs Actual ratings\")\n",
    "plt.xlabel(\"Stated preferrences standardized\")\n",
    "plt.ylabel(\"Actual ratings given standardized\")\n",
    "b, m = polyfit(x, y, 1)\n",
    "plt.plot(x, b + m * x, '-', color='black')\n",
    "plt.show()"
   ]
  },
  {
   "cell_type": "code",
   "execution_count": 90,
   "metadata": {},
   "outputs": [
    {
     "data": {
      "text/plain": [
       "Intercept    0.679237\n",
       "avg_prefs    0.146477\n",
       "dtype: float64"
      ]
     },
     "execution_count": 90,
     "metadata": {},
     "output_type": "execute_result"
    }
   ],
   "source": [
    "# Combine the data from the two separate dataframes into one to make it easier to perform a linear regression\n",
    "pref_vs_actual_avg_data = {'avg_prefs':x,'avg_rating':y}\n",
    "pref_vs_actual = pd.DataFrame(data=pref_vs_actual_avg_data)\n",
    "\n",
    "# Calculate the correlation\n",
    "model = ols(formula='avg_rating ~ avg_prefs', data=pref_vs_actual).fit()\n",
    "model.params"
   ]
  },
  {
   "cell_type": "markdown",
   "metadata": {},
   "source": [
    "While this does reveal that people did consider their matches as a combination of all their different characteristics, the importance they placed on their partners meeting up to their preferences was still very low. Not to say people didn't care at all, but as a whole, it isn't something that would be able to predict the chance of a match."
   ]
  },
  {
   "cell_type": "markdown",
   "metadata": {},
   "source": [
    "<strong><h1>Conclusion</h1></strong>"
   ]
  },
  {
   "cell_type": "markdown",
   "metadata": {},
   "source": [
    "There does not seem to be any distinct or obvious way to determine whether people will match based on any measureable or calculated statistics. While there are some trends that can be observed in terms of matching patterns, none of those factors, nor any apparent combination of those factors, are enough to provide a means to develop a sophisticated enough model that can predict possible matches.\n",
    "<br><br>\n",
    "Now, while this analysis was not able to find any model or methodology that can accurately predict someone's chances of finding a match, there are some conclusions that can be drawn from the lack of such a model. First and foremost, the results of this tutorial should serve as an incentivizer for people who are looking for a special someone to go out and just meet lots of people. Regardless of how you perceive yourself or how others actually perceive you, none of that really determines your true desirability. What's more, even if someone your interested in seems to be looking for specific traits that you don't think you have or has expectations you don't think you can meet, more likely than not, it could be quite the opposite: they will find themselves attracted to someone that has little connection to their \"preferrences\" or \"requirements\".\n",
    "<br><br>\n",
    "If your really interested in using Speed Dating as a means to find your match, be aware that this tutorial is not suggesting you will have the best odds of by being overly ambitious with your descriptions or your behavior, but that disregarding the superficial aspects of attractiveness that may limit you from being yourself would probably be your best bet at finding success at one of these events. One disclaimer, however, is that this data was collected from those who went to Columbia at the time, so generalizing the results of this tutorial to every situation may not always be the best idea. Simply, use the results of this tutorial as another tool to help you on your search for that special someone."
   ]
  }
 ],
 "metadata": {
  "kernelspec": {
   "display_name": "Python 3",
   "language": "python",
   "name": "python3"
  },
  "language_info": {
   "codemirror_mode": {
    "name": "ipython",
    "version": 3
   },
   "file_extension": ".py",
   "mimetype": "text/x-python",
   "name": "python",
   "nbconvert_exporter": "python",
   "pygments_lexer": "ipython3",
   "version": "3.6.3"
  }
 },
 "nbformat": 4,
 "nbformat_minor": 2
}
