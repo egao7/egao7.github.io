{
 "cells": [
  {
   "cell_type": "markdown",
   "metadata": {},
   "source": [
    "<h1><strong>A Match Made In Heaven</strong></h1>\n",
    "<br>\n",
    "<strong>Dennis Li, Eric Gao</strong>"
   ]
  },
  {
   "cell_type": "markdown",
   "metadata": {},
   "source": [
    "<strong><h1>Introduction: </h1></strong> <br>\n",
    "It may or may not be spring time, but love remains in the air. With the explosion of various different dating sites, online matchmaking has seemingly become the best way to meet new people and get dates. Face-to-face dating events have pretty much become a thing of the past. Nevertheless, speed dating is still a method for romantics to find their soul mate. \"Love at first sight\". \"Star crossed lovers\". There are quite a few idioms surrounding the mystery of attraction and love. And then there are always the statements about how personality is what truly makes someone beautiful. But what really makes someone attractive? What makes them attractive enough to take the time to try and get to know their personality.\n",
    "<br>\n",
    "By compiling and analyzing data on thousands of speed dates, we can get an idea of what exactly makes certain people seem more desirable than others. This tutorial will walk through different steps to generate analyses that try to find those traits."
   ]
  },
  {
   "cell_type": "markdown",
   "metadata": {},
   "source": [
    "<strong>Libraries</strong>\n",
    "<br>\n",
    "These will be the libraries that will be necessary for various different analyses."
   ]
  },
  {
   "cell_type": "code",
   "execution_count": 42,
   "metadata": {},
   "outputs": [
    {
     "name": "stdout",
     "output_type": "stream",
     "text": [
      "Requirement already up-to-date: pip in /opt/conda/lib/python3.6/site-packages (18.1)\n",
      "Requirement already satisfied: seaborn in /opt/conda/lib/python3.6/site-packages (0.9.0)\n",
      "Requirement already satisfied: numpy>=1.9.3 in /opt/conda/lib/python3.6/site-packages (from seaborn) (1.13.3)\n",
      "Requirement already satisfied: scipy>=0.14.0 in /opt/conda/lib/python3.6/site-packages (from seaborn) (1.1.0)\n",
      "Requirement already satisfied: pandas>=0.15.2 in /opt/conda/lib/python3.6/site-packages (from seaborn) (0.23.4)\n",
      "Requirement already satisfied: matplotlib>=1.4.3 in /opt/conda/lib/python3.6/site-packages (from seaborn) (2.2.3)\n",
      "Requirement already satisfied: python-dateutil>=2.5.0 in /opt/conda/lib/python3.6/site-packages (from pandas>=0.15.2->seaborn) (2.7.3)\n",
      "Requirement already satisfied: pytz>=2011k in /opt/conda/lib/python3.6/site-packages (from pandas>=0.15.2->seaborn) (2018.5)\n",
      "Requirement already satisfied: cycler>=0.10 in /opt/conda/lib/python3.6/site-packages (from matplotlib>=1.4.3->seaborn) (0.10.0)\n",
      "Requirement already satisfied: pyparsing!=2.0.4,!=2.1.2,!=2.1.6,>=2.0.1 in /opt/conda/lib/python3.6/site-packages (from matplotlib>=1.4.3->seaborn) (2.2.0)\n",
      "Requirement already satisfied: six>=1.10 in /opt/conda/lib/python3.6/site-packages (from matplotlib>=1.4.3->seaborn) (1.11.0)\n",
      "Requirement already satisfied: kiwisolver>=1.0.1 in /opt/conda/lib/python3.6/site-packages (from matplotlib>=1.4.3->seaborn) (1.0.1)\n",
      "Requirement already satisfied: setuptools in /opt/conda/lib/python3.6/site-packages (from kiwisolver>=1.0.1->matplotlib>=1.4.3->seaborn) (40.0.0)\n"
     ]
    }
   ],
   "source": [
    "# This will automatically install seaborn\n",
    "!pip install --upgrade pip\n",
    "!pip install seaborn\n",
    "\n",
    "import pandas as pd\n",
    "import numpy as np\n",
    "import seaborn as sns\n",
    "import matplotlib.pyplot as plt\n",
    "import statsmodels.api as sm\n",
    "from statsmodels.formula.api import ols\n",
    "from numpy.polynomial.polynomial import polyfit\n",
    "from sklearn.linear_model import LinearRegression"
   ]
  },
  {
   "cell_type": "markdown",
   "metadata": {},
   "source": [
    "<strong>Getting the data</strong>\n",
    "<br>\n",
    "Use pandas to read the data from a csv file into a dataframe"
   ]
  },
  {
   "cell_type": "code",
   "execution_count": 54,
   "metadata": {},
   "outputs": [
    {
     "data": {
      "text/html": [
       "<div>\n",
       "<style scoped>\n",
       "    .dataframe tbody tr th:only-of-type {\n",
       "        vertical-align: middle;\n",
       "    }\n",
       "\n",
       "    .dataframe tbody tr th {\n",
       "        vertical-align: top;\n",
       "    }\n",
       "\n",
       "    .dataframe thead th {\n",
       "        text-align: right;\n",
       "    }\n",
       "</style>\n",
       "<table border=\"1\" class=\"dataframe\">\n",
       "  <thead>\n",
       "    <tr style=\"text-align: right;\">\n",
       "      <th></th>\n",
       "      <th>iid</th>\n",
       "      <th>id</th>\n",
       "      <th>gender</th>\n",
       "      <th>idg</th>\n",
       "      <th>condtn</th>\n",
       "      <th>wave</th>\n",
       "      <th>round</th>\n",
       "      <th>position</th>\n",
       "      <th>positin1</th>\n",
       "      <th>order</th>\n",
       "      <th>...</th>\n",
       "      <th>attr3_3</th>\n",
       "      <th>sinc3_3</th>\n",
       "      <th>intel3_3</th>\n",
       "      <th>fun3_3</th>\n",
       "      <th>amb3_3</th>\n",
       "      <th>attr5_3</th>\n",
       "      <th>sinc5_3</th>\n",
       "      <th>intel5_3</th>\n",
       "      <th>fun5_3</th>\n",
       "      <th>amb5_3</th>\n",
       "    </tr>\n",
       "  </thead>\n",
       "  <tbody>\n",
       "    <tr>\n",
       "      <th>0</th>\n",
       "      <td>1</td>\n",
       "      <td>1.0</td>\n",
       "      <td>0</td>\n",
       "      <td>1</td>\n",
       "      <td>1</td>\n",
       "      <td>1</td>\n",
       "      <td>10</td>\n",
       "      <td>7</td>\n",
       "      <td>NaN</td>\n",
       "      <td>4</td>\n",
       "      <td>...</td>\n",
       "      <td>5.0</td>\n",
       "      <td>7.0</td>\n",
       "      <td>7.0</td>\n",
       "      <td>7.0</td>\n",
       "      <td>7.0</td>\n",
       "      <td>NaN</td>\n",
       "      <td>NaN</td>\n",
       "      <td>NaN</td>\n",
       "      <td>NaN</td>\n",
       "      <td>NaN</td>\n",
       "    </tr>\n",
       "    <tr>\n",
       "      <th>1</th>\n",
       "      <td>1</td>\n",
       "      <td>1.0</td>\n",
       "      <td>0</td>\n",
       "      <td>1</td>\n",
       "      <td>1</td>\n",
       "      <td>1</td>\n",
       "      <td>10</td>\n",
       "      <td>7</td>\n",
       "      <td>NaN</td>\n",
       "      <td>3</td>\n",
       "      <td>...</td>\n",
       "      <td>5.0</td>\n",
       "      <td>7.0</td>\n",
       "      <td>7.0</td>\n",
       "      <td>7.0</td>\n",
       "      <td>7.0</td>\n",
       "      <td>NaN</td>\n",
       "      <td>NaN</td>\n",
       "      <td>NaN</td>\n",
       "      <td>NaN</td>\n",
       "      <td>NaN</td>\n",
       "    </tr>\n",
       "    <tr>\n",
       "      <th>2</th>\n",
       "      <td>1</td>\n",
       "      <td>1.0</td>\n",
       "      <td>0</td>\n",
       "      <td>1</td>\n",
       "      <td>1</td>\n",
       "      <td>1</td>\n",
       "      <td>10</td>\n",
       "      <td>7</td>\n",
       "      <td>NaN</td>\n",
       "      <td>10</td>\n",
       "      <td>...</td>\n",
       "      <td>5.0</td>\n",
       "      <td>7.0</td>\n",
       "      <td>7.0</td>\n",
       "      <td>7.0</td>\n",
       "      <td>7.0</td>\n",
       "      <td>NaN</td>\n",
       "      <td>NaN</td>\n",
       "      <td>NaN</td>\n",
       "      <td>NaN</td>\n",
       "      <td>NaN</td>\n",
       "    </tr>\n",
       "    <tr>\n",
       "      <th>3</th>\n",
       "      <td>1</td>\n",
       "      <td>1.0</td>\n",
       "      <td>0</td>\n",
       "      <td>1</td>\n",
       "      <td>1</td>\n",
       "      <td>1</td>\n",
       "      <td>10</td>\n",
       "      <td>7</td>\n",
       "      <td>NaN</td>\n",
       "      <td>5</td>\n",
       "      <td>...</td>\n",
       "      <td>5.0</td>\n",
       "      <td>7.0</td>\n",
       "      <td>7.0</td>\n",
       "      <td>7.0</td>\n",
       "      <td>7.0</td>\n",
       "      <td>NaN</td>\n",
       "      <td>NaN</td>\n",
       "      <td>NaN</td>\n",
       "      <td>NaN</td>\n",
       "      <td>NaN</td>\n",
       "    </tr>\n",
       "    <tr>\n",
       "      <th>4</th>\n",
       "      <td>1</td>\n",
       "      <td>1.0</td>\n",
       "      <td>0</td>\n",
       "      <td>1</td>\n",
       "      <td>1</td>\n",
       "      <td>1</td>\n",
       "      <td>10</td>\n",
       "      <td>7</td>\n",
       "      <td>NaN</td>\n",
       "      <td>7</td>\n",
       "      <td>...</td>\n",
       "      <td>5.0</td>\n",
       "      <td>7.0</td>\n",
       "      <td>7.0</td>\n",
       "      <td>7.0</td>\n",
       "      <td>7.0</td>\n",
       "      <td>NaN</td>\n",
       "      <td>NaN</td>\n",
       "      <td>NaN</td>\n",
       "      <td>NaN</td>\n",
       "      <td>NaN</td>\n",
       "    </tr>\n",
       "  </tbody>\n",
       "</table>\n",
       "<p>5 rows × 195 columns</p>\n",
       "</div>"
      ],
      "text/plain": [
       "   iid   id  gender  idg  condtn  wave  round  position  positin1  order  \\\n",
       "0    1  1.0       0    1       1     1     10         7       NaN      4   \n",
       "1    1  1.0       0    1       1     1     10         7       NaN      3   \n",
       "2    1  1.0       0    1       1     1     10         7       NaN     10   \n",
       "3    1  1.0       0    1       1     1     10         7       NaN      5   \n",
       "4    1  1.0       0    1       1     1     10         7       NaN      7   \n",
       "\n",
       "    ...    attr3_3  sinc3_3  intel3_3  fun3_3  amb3_3  attr5_3  sinc5_3  \\\n",
       "0   ...        5.0      7.0       7.0     7.0     7.0      NaN      NaN   \n",
       "1   ...        5.0      7.0       7.0     7.0     7.0      NaN      NaN   \n",
       "2   ...        5.0      7.0       7.0     7.0     7.0      NaN      NaN   \n",
       "3   ...        5.0      7.0       7.0     7.0     7.0      NaN      NaN   \n",
       "4   ...        5.0      7.0       7.0     7.0     7.0      NaN      NaN   \n",
       "\n",
       "   intel5_3  fun5_3  amb5_3  \n",
       "0       NaN     NaN     NaN  \n",
       "1       NaN     NaN     NaN  \n",
       "2       NaN     NaN     NaN  \n",
       "3       NaN     NaN     NaN  \n",
       "4       NaN     NaN     NaN  \n",
       "\n",
       "[5 rows x 195 columns]"
      ]
     },
     "execution_count": 54,
     "metadata": {},
     "output_type": "execute_result"
    }
   ],
   "source": [
    "dating_info = pd.read_csv('Speed Dating Data.csv', encoding = \"ISO-8859-1\")\n",
    "dating_info.head()"
   ]
  },
  {
   "cell_type": "markdown",
   "metadata": {},
   "source": [
    "<strong>Tidying Data:</strong><br>\n",
    "A quick glance at the original table reveals an incredible number of different columns, or attributes, that may or may not need to be considered. You will notice many of these attributes are missing data. In trying to find specific traits that make someone attractive or desirable at first glance, the data for some of the attributes would be much more useful than others. Using too many factors to determine attractiveness could make it hard to find a noticeable distinction between being attractive and not. Additionally, each entry in the original table may be missing various values, which pose challenges when attempting to perform analyses on the data. In order to ensure a smooth analysis process, we can take steps to transform, or \"tidy\", the initial data to something that is easier to work with. After tidying the data, you will see that attributes that were missing data have been removed, in order to ease the analysis process"
   ]
  },
  {
   "cell_type": "code",
   "execution_count": 34,
   "metadata": {},
   "outputs": [
    {
     "data": {
      "text/html": [
       "<div>\n",
       "<style scoped>\n",
       "    .dataframe tbody tr th:only-of-type {\n",
       "        vertical-align: middle;\n",
       "    }\n",
       "\n",
       "    .dataframe tbody tr th {\n",
       "        vertical-align: top;\n",
       "    }\n",
       "\n",
       "    .dataframe thead th {\n",
       "        text-align: right;\n",
       "    }\n",
       "</style>\n",
       "<table border=\"1\" class=\"dataframe\">\n",
       "  <thead>\n",
       "    <tr style=\"text-align: right;\">\n",
       "      <th></th>\n",
       "      <th>iid</th>\n",
       "      <th>pid</th>\n",
       "      <th>match</th>\n",
       "      <th>race</th>\n",
       "      <th>race_o</th>\n",
       "      <th>age</th>\n",
       "      <th>gender</th>\n",
       "      <th>field_cd</th>\n",
       "      <th>career_c</th>\n",
       "      <th>self_perc</th>\n",
       "      <th>partner_perc</th>\n",
       "    </tr>\n",
       "  </thead>\n",
       "  <tbody>\n",
       "    <tr>\n",
       "      <th>30</th>\n",
       "      <td>4</td>\n",
       "      <td>11</td>\n",
       "      <td>0</td>\n",
       "      <td>2</td>\n",
       "      <td>2</td>\n",
       "      <td>23</td>\n",
       "      <td>0</td>\n",
       "      <td>1</td>\n",
       "      <td>1</td>\n",
       "      <td>7</td>\n",
       "      <td>6</td>\n",
       "    </tr>\n",
       "    <tr>\n",
       "      <th>31</th>\n",
       "      <td>4</td>\n",
       "      <td>12</td>\n",
       "      <td>0</td>\n",
       "      <td>2</td>\n",
       "      <td>2</td>\n",
       "      <td>23</td>\n",
       "      <td>0</td>\n",
       "      <td>1</td>\n",
       "      <td>1</td>\n",
       "      <td>7</td>\n",
       "      <td>6</td>\n",
       "    </tr>\n",
       "    <tr>\n",
       "      <th>32</th>\n",
       "      <td>4</td>\n",
       "      <td>13</td>\n",
       "      <td>0</td>\n",
       "      <td>2</td>\n",
       "      <td>4</td>\n",
       "      <td>23</td>\n",
       "      <td>0</td>\n",
       "      <td>1</td>\n",
       "      <td>1</td>\n",
       "      <td>7</td>\n",
       "      <td>10</td>\n",
       "    </tr>\n",
       "    <tr>\n",
       "      <th>33</th>\n",
       "      <td>4</td>\n",
       "      <td>14</td>\n",
       "      <td>1</td>\n",
       "      <td>2</td>\n",
       "      <td>2</td>\n",
       "      <td>23</td>\n",
       "      <td>0</td>\n",
       "      <td>1</td>\n",
       "      <td>1</td>\n",
       "      <td>7</td>\n",
       "      <td>7</td>\n",
       "    </tr>\n",
       "    <tr>\n",
       "      <th>34</th>\n",
       "      <td>4</td>\n",
       "      <td>15</td>\n",
       "      <td>0</td>\n",
       "      <td>2</td>\n",
       "      <td>3</td>\n",
       "      <td>23</td>\n",
       "      <td>0</td>\n",
       "      <td>1</td>\n",
       "      <td>1</td>\n",
       "      <td>7</td>\n",
       "      <td>8</td>\n",
       "    </tr>\n",
       "  </tbody>\n",
       "</table>\n",
       "</div>"
      ],
      "text/plain": [
       "    iid  pid  match  race  race_o  age  gender  field_cd  career_c  self_perc  \\\n",
       "30    4   11      0     2       2   23       0         1         1          7   \n",
       "31    4   12      0     2       2   23       0         1         1          7   \n",
       "32    4   13      0     2       4   23       0         1         1          7   \n",
       "33    4   14      1     2       2   23       0         1         1          7   \n",
       "34    4   15      0     2       3   23       0         1         1          7   \n",
       "\n",
       "    partner_perc  \n",
       "30             6  \n",
       "31             6  \n",
       "32            10  \n",
       "33             7  \n",
       "34             8  "
      ]
     },
     "execution_count": 34,
     "metadata": {},
     "output_type": "execute_result"
    }
   ],
   "source": [
    "# take a subset of the columns from the original table\n",
    "data = dating_info[['iid', 'pid', 'match', 'race', 'race_o', 'age', 'gender', 'field_cd', 'career_c', 'attr3_1', 'attr_o']]\n",
    "\n",
    "# dictionaries to define the codes used in the table\n",
    "field_codes = {1: 'Law', 2: 'Math', 3: 'Social Science, Psychologist', 4: 'Medical Science', 5: 'Engineering',\n",
    "               6: 'English/Creative Writing/Journalism', 7: 'History/Religion/Philosophy', 8: 'Business/Econ/Fiance', \n",
    "               9: 'Education, Academia', 10: 'Biological Sciences/Chemistry/Physics', 11: 'Social Work', 12:'Undergrad/Undecided',\n",
    "               13: 'Political Science/International Affairs', 14: 'Film', 15: 'Fine Arts/Arts Administration',16: 'Languages',\n",
    "               17: 'Architecture',18: 'Other'}\n",
    "career_codes = {1:'Lawyer',2:'Academic/Research',3:'Psychologist',4:'Doctor/Medicine',5:'Engineer',6:'Entertainment',\n",
    "               7:'Finance',8:'Real Estate',9:'International Affairs',10:'Undecided',\n",
    "               11:'Social Work',12:'Speech Pathology',13:'Politics',14:'Athletics',15:'Other',16:'Journalism',\n",
    "               17:'Architecture'}\n",
    "race_codes = {1:'Black',2:'European',3:'Latino/Hispanic',4:'Asian',5:'Native American',6:'Other'}\n",
    "gender_codes = {0:'female',1:'male'}\n",
    "\n",
    "# Remove all entries that are missing any data\n",
    "data = data[pd.notnull(data['race'])]\n",
    "data = data[pd.notnull(data['age'])]\n",
    "data = data[pd.notnull(data['field_cd'])]\n",
    "data = data[pd.notnull(data['career_c'])]\n",
    "data = data[pd.notnull(data['pid'])]\n",
    "data = data[pd.notnull(data['race_o'])]\n",
    "data = data[pd.notnull(data['attr3_1'])]\n",
    "data = data[pd.notnull(data['attr_o'])]\n",
    "\n",
    "# Convert all coded columns from floats to ints in order to use the dictionaries defined above\n",
    "data = data.assign(pid=data['pid'].astype(int))\n",
    "data = data.assign(race=data['race'].astype(int))\n",
    "data = data.assign(race_o=data['race_o'].astype(int))\n",
    "data = data.assign(age=data['age'].astype(int))\n",
    "data = data.assign(field_cd=data['field_cd'].astype(int))\n",
    "data = data.assign(career_c=data['career_c'].astype(int))\n",
    "data = data.assign(attr3_1=data['attr3_1'].astype(int))\n",
    "data = data.assign(attr_o=data['attr_o'].astype(int))\n",
    "\n",
    "# Rename some columns\n",
    "data = data.rename(index=str, columns={\"attr3_1\":\"self_perc\", \"attr_o\":\"partner_perc\"})\n",
    "\n",
    "data.head()"
   ]
  },
  {
   "cell_type": "markdown",
   "metadata": {},
   "source": [
    "<strong><h1>Exploratory Data Analysis</h1></strong>\n",
    "<br>\n",
    "Now that we have finished tidying our data, we can start performing some analyses."
   ]
  },
  {
   "cell_type": "markdown",
   "metadata": {},
   "source": [
    "We first make plots showing attractiveness based on some attributes according to the number of total matches based on that specific attribute. We first make a plot of attractiveness based on race."
   ]
  },
  {
   "cell_type": "code",
   "execution_count": 4,
   "metadata": {},
   "outputs": [
    {
     "data": {
      "image/png": "[encoded data removed]",
      "text/plain": [
       "<Figure size 432x288 with 1 Axes>"
      ]
     },
     "metadata": {},
     "output_type": "display_data"
    }
   ],
   "source": [
    "plot_index = 0\n",
    "plt.figure(plot_index)\n",
    "plot_index += 1\n",
    "\n",
    "# Add the decoded race as a new column so when the corresponding bar plot is created, it is easier to read\n",
    "races = []\n",
    "races_o = []\n",
    "for index, row in data.iterrows():\n",
    "    race_code = row['race']\n",
    "    race_o_code = row['race_o']\n",
    "    race = race_codes[race_code]\n",
    "    race_o = race_codes[race_o_code]\n",
    "    races.append(race)\n",
    "    races_o.append(race_o)\n",
    "data = data.assign(race_desc=races)\n",
    "data = data.assign(race_o_desc=races_o)\n",
    "\n",
    "data_grouped = data.groupby('race_desc')\n",
    "att_by_race = data_grouped['match'].sum().reset_index()\n",
    "att_by_race.columns = ['Race', 'Total Matches']\n",
    "\n",
    "# plot attractiveness by race\n",
    "p = sns.barplot(data=att_by_race, x='Race', y='Total Matches')\n",
    "plt.title(\"Attractiveness by Race\")\n",
    "for item in p.get_xticklabels():\n",
    "    item.set_rotation(45)\n",
    "plt.show()"
   ]
  },
  {
   "cell_type": "markdown",
   "metadata": {},
   "source": [
    "Based on this plot, it seems Europeans are the most desirable by a fair margin, followed by Asians and then Latinos/Hispanics"
   ]
  },
  {
   "cell_type": "markdown",
   "metadata": {},
   "source": [
    "Now let's see how age affects attractiveness"
   ]
  },
  {
   "cell_type": "code",
   "execution_count": 5,
   "metadata": {},
   "outputs": [
    {
     "data": {
      "image/png": "[encoded data removed]",
      "text/plain": [
       "<Figure size 432x288 with 1 Axes>"
      ]
     },
     "metadata": {},
     "output_type": "display_data"
    }
   ],
   "source": [
    "plt.figure(plot_index)\n",
    "plot_index += 1\n",
    "\n",
    "data_grouped = data.groupby('age')\n",
    "att_by_race = data_grouped['match'].sum().reset_index()\n",
    "att_by_race.columns = ['Age', 'Total Matches']\n",
    "\n",
    "# plot attractiveness by age\n",
    "p = sns.barplot(data=att_by_race, x='Age', y='Total Matches')\n",
    "plt.title(\"Attractiveness by Age\")\n",
    "plt.show()"
   ]
  },
  {
   "cell_type": "markdown",
   "metadata": {},
   "source": [
    "From this plot, it seems the most attractive people are those in their 20s"
   ]
  },
  {
   "cell_type": "markdown",
   "metadata": {},
   "source": [
    "And then let's plot by occupation"
   ]
  },
  {
   "cell_type": "code",
   "execution_count": 6,
   "metadata": {},
   "outputs": [
    {
     "data": {
      "image/png": "[encoded data removed]",
      "text/plain": [
       "<Figure size 432x288 with 1 Axes>"
      ]
     },
     "metadata": {},
     "output_type": "display_data"
    }
   ],
   "source": [
    "plt.figure(plot_index)\n",
    "plot_index += 1\n",
    "\n",
    "# Add the decoded career, or occupation, as a new column so when the corresponding bar plot is created, it is more understandable\n",
    "occupations = []\n",
    "for index, row in data.iterrows():\n",
    "    occupation_code = row['career_c']\n",
    "    occupation = career_codes[occupation_code]\n",
    "    occupations.append(occupation)\n",
    "data = data.assign(occupation=occupations)\n",
    "\n",
    "data_grouped = data.groupby('occupation')\n",
    "att_by_race = data_grouped['match'].sum().reset_index()\n",
    "att_by_race.columns = ['Occupation', 'Total Matches']\n",
    "\n",
    "# plot attractiveness by race\n",
    "p = sns.barplot(data=att_by_race, x='Occupation', y='Total Matches')\n",
    "plt.title(\"Attractiveness by Race\")\n",
    "for item in p.get_xticklabels():\n",
    "    item.set_rotation(90)\n",
    "plt.show()"
   ]
  },
  {
   "cell_type": "markdown",
   "metadata": {},
   "source": [
    "It seems people in Finance and Academia/Research are the most attractive by quite a bit, followed by Lawyers and those in Entertainment"
   ]
  },
  {
   "cell_type": "markdown",
   "metadata": {},
   "source": [
    "<strong><h1>Hypothesis Testing</h1></strong>"
   ]
  },
  {
   "cell_type": "markdown",
   "metadata": {},
   "source": [
    "Though the above exploratory analyses do give an idea of what general characteristics are considered attractive, they don't really provide a good idea of what it means to be attractive, or what makes someone attractive. We can take the next step and try to find the factor, or factors, that really make someone attractive. Based on the analyses from above, a good starting point would be to presume matches come as a result of finding someone attractive. So let's see if this is the case."
   ]
  },
  {
   "cell_type": "markdown",
   "metadata": {},
   "source": [
    "In speed dating, two people are set up together by a third party for their \"first dates\" where they get their first impression of each other. The pair can then request further dates by themselves to ultimately find out if they match or not. I'm sure many of you have heard the saying \"Beauty is in the eye of the beholder\"; when it comes to judging attractiveness, however, first impressions can have a pretty big impact. For that matter, the ability to make good first impressions can be considered a factor in attractiveness, so let's see how important first impressions, or perceived attractiveness, can be in finding a match."
   ]
  },
  {
   "cell_type": "code",
   "execution_count": 51,
   "metadata": {},
   "outputs": [
    {
     "data": {
      "image/png": "[encoded data removed]",
      "text/plain": [
       "<Figure size 432x288 with 1 Axes>"
      ]
     },
     "metadata": {},
     "output_type": "display_data"
    }
   ],
   "source": [
    "# Isolate all the matches\n",
    "all_matches = data[data['match'] == 1]\n",
    "all_matches = all_matches.rename(index=str, columns={\"attr3_1\":\"self_perc\", \"attr_o\":\"partner_perc\"})\n",
    "\n",
    "# Find the average of the perceived attractiveness ratings from all the people each person was partnered with\n",
    "group_by_person = data.groupby('iid')\n",
    "avg_partner_perc = group_by_person.mean().reset_index()\n",
    "\n",
    "# Find how many total partners each person had and how many total matches they had as well\n",
    "group_by_person = data.groupby('iid')\n",
    "num_partners = group_by_person['pid'].count().reset_index()\n",
    "num_partners.columns = ['iid','num_partners']\n",
    "num_matches = group_by_person['match'].sum().reset_index()\n",
    "num_matches.columns = ['iid', 'num_matches']\n",
    "\n",
    "# Calculate the percentage of matches each person ended up getting\n",
    "match_percentages = []\n",
    "for index, row in num_partners.iterrows():\n",
    "    iid = row['iid']\n",
    "    num_partner = row['num_partners']\n",
    "    num_match_row = num_matches.loc[num_matches['iid']==iid]\n",
    "    num_match = num_match_row['num_matches']\n",
    "    match_percentages.append(float(num_match/num_partner))\n",
    "\n",
    "d = {'match_percentage':match_percentages}\n",
    "percentage_df = pd.DataFrame(data=d)\n",
    "\n",
    "# Plot the match rates\n",
    "plt.figure(plot_index)\n",
    "plot_index += 1\n",
    "\n",
    "x = avg_partner_perc['partner_perc']\n",
    "y = percentage_df['match_percentage']\n",
    "\n",
    "plt.scatter(x,y)\n",
    "b, m = polyfit(x, y, 1)\n",
    "plt.plot(x, b + m * x, '-', color='black')\n",
    "plt.xlabel('Average perceived attractiveness')\n",
    "plt.ylabel('Percentage matches')\n",
    "plt.title('Attractiveness vs. Match rate')\n",
    "plt.show()"
   ]
  },
  {
   "cell_type": "markdown",
   "metadata": {},
   "source": [
    "It seems like an increase in a person's average perceived attractiveness is associated with an increase in the person's chances of finding a match. This shouldn't come as too much of a surprise, but let's find the exact correlation to be sure."
   ]
  },
  {
   "cell_type": "code",
   "execution_count": 45,
   "metadata": {},
   "outputs": [
    {
     "data": {
      "text/plain": [
       "Intercept   -0.171038\n",
       "avg_att      0.055047\n",
       "dtype: float64"
      ]
     },
     "execution_count": 45,
     "metadata": {},
     "output_type": "execute_result"
    }
   ],
   "source": [
    "# Combine the data from the two separate dataframes into one to make it easier to perform a linear regression\n",
    "att_vs_matches_data = {'avg_att':x,'match_percentage':y}\n",
    "att_vs_matches = pd.DataFrame(data=att_vs_matches_data)\n",
    "\n",
    "# Calculate the correlation\n",
    "model = ols(formula='match_percentage ~ avg_att', data=att_vs_matches).fit()\n",
    "model.params"
   ]
  },
  {
   "cell_type": "markdown",
   "metadata": {},
   "source": [
    "So it turns out that there is only a correlation of 0.05 between a person's average perceived attractiveness and the chances of them finding a match. This is pretty low ... so there is probably something else that determines if a person is desirable or not."
   ]
  },
  {
   "cell_type": "markdown",
   "metadata": {},
   "source": [
    "The plot showing the relation between attractiveness and matches seems to suggest a pretty linear relationship, and yet a calculation of that model reveals a very low correlation. Those two representations may make it hard to visualize or understand why those analyses seem to contradict each other and reveal a low correlation and weak relationship. Here is another way of thinking about the problem."
   ]
  },
  {
   "cell_type": "code",
   "execution_count": 52,
   "metadata": {},
   "outputs": [
    {
     "data": {
      "image/png": "[encoded data removed]",
      "text/plain": [
       "<Figure size 432x288 with 1 Axes>"
      ]
     },
     "metadata": {},
     "output_type": "display_data"
    }
   ],
   "source": [
    "# Calculate the residuals of the model\n",
    "model_residuals = []\n",
    "predictions = model.predict()\n",
    "for index, row in att_vs_matches.iterrows():\n",
    "    match_percentage = row['match_percentage']\n",
    "    model_residuals.append(match_percentage - predictions[index])\n",
    "att_vs_matches['model_residuals'] = model_residuals\n",
    "\n",
    "# Create a scatter plot of the residuals\n",
    "plt.figure(plot_index)\n",
    "plot_index += 1\n",
    "\n",
    "x = att_vs_matches['avg_att']\n",
    "y = att_vs_matches['model_residuals']\n",
    "\n",
    "plt.scatter(x,y)\n",
    "plt.axhline(0, color='black')\n",
    "plt.xlabel('Average perceived attractiveness')\n",
    "plt.ylabel('Model residuals')\n",
    "plt.title('Model residuals')\n",
    "plt.show()"
   ]
  },
  {
   "cell_type": "markdown",
   "metadata": {},
   "source": [
    "This residual plot should reveal that the residuals of the predictions based on the model between attractiveness and match rates are spread out all over the place. Such a fact suggests that the given model is unable to accurately provide predictions for such a relationship."
   ]
  },
  {
   "cell_type": "markdown",
   "metadata": {},
   "source": [
    "So now that we know attraction is not the factor, or at least is not the only factor, when it comes to finding a match, this situation begs the questions: What do people look for then? And how much do they value each feature? Well, let's see how the people that participated in this speed dating event answered that question. The representation will assume males and females generally have different criteria and are thus displayed separately."
   ]
  },
  {
   "cell_type": "markdown",
   "metadata": {},
   "source": [
    "Let's first calculate the average importance people assigned to various attributes"
   ]
  },
  {
   "cell_type": "code",
   "execution_count": 127,
   "metadata": {},
   "outputs": [
    {
     "data": {
      "text/html": [
       "<div>\n",
       "<style scoped>\n",
       "    .dataframe tbody tr th:only-of-type {\n",
       "        vertical-align: middle;\n",
       "    }\n",
       "\n",
       "    .dataframe tbody tr th {\n",
       "        vertical-align: top;\n",
       "    }\n",
       "\n",
       "    .dataframe thead th {\n",
       "        text-align: right;\n",
       "    }\n",
       "</style>\n",
       "<table border=\"1\" class=\"dataframe\">\n",
       "  <thead>\n",
       "    <tr style=\"text-align: right;\">\n",
       "      <th></th>\n",
       "      <th>gender</th>\n",
       "      <th>attractive</th>\n",
       "      <th>sincere</th>\n",
       "      <th>intelligent</th>\n",
       "      <th>fun</th>\n",
       "      <th>ambitious</th>\n",
       "      <th>shared interests</th>\n",
       "    </tr>\n",
       "  </thead>\n",
       "  <tbody>\n",
       "    <tr>\n",
       "      <th>0</th>\n",
       "      <td>female</td>\n",
       "      <td>17.880597</td>\n",
       "      <td>18.175373</td>\n",
       "      <td>20.869403</td>\n",
       "      <td>17.253731</td>\n",
       "      <td>12.753731</td>\n",
       "      <td>12.626866</td>\n",
       "    </tr>\n",
       "    <tr>\n",
       "      <th>1</th>\n",
       "      <td>male</td>\n",
       "      <td>26.904762</td>\n",
       "      <td>16.300366</td>\n",
       "      <td>19.326007</td>\n",
       "      <td>17.498168</td>\n",
       "      <td>8.725275</td>\n",
       "      <td>10.897436</td>\n",
       "    </tr>\n",
       "  </tbody>\n",
       "</table>\n",
       "</div>"
      ],
      "text/plain": [
       "   gender  attractive    sincere  intelligent        fun  ambitious  \\\n",
       "0  female   17.880597  18.175373    20.869403  17.253731  12.753731   \n",
       "1    male   26.904762  16.300366    19.326007  17.498168   8.725275   \n",
       "\n",
       "   shared interests  \n",
       "0         12.626866  \n",
       "1         10.897436  "
      ]
     },
     "execution_count": 127,
     "metadata": {},
     "output_type": "execute_result"
    }
   ],
   "source": [
    "preferences = dating_info[['iid', 'gender','attr1_1','sinc1_1','intel1_1','fun1_1','amb1_1','shar1_1']]\n",
    "\n",
    "# Remove any missing entries\n",
    "preferences = preferences[pd.notnull(preferences['iid'])]\n",
    "preferences = preferences[pd.notnull(preferences['attr1_1'])]\n",
    "preferences = preferences[pd.notnull(preferences['sinc1_1'])]\n",
    "preferences = preferences[pd.notnull(preferences['intel1_1'])]\n",
    "preferences = preferences[pd.notnull(preferences['fun1_1'])]\n",
    "preferences = preferences[pd.notnull(preferences['amb1_1'])]\n",
    "preferences = preferences[pd.notnull(preferences['shar1_1'])]\n",
    "\n",
    "# Convert columns from floats to ints for easier analysis\n",
    "preferences = preferences.assign(attr1_1=preferences['attr1_1'].astype(int))\n",
    "preferences = preferences.assign(sinc1_1=preferences['sinc1_1'].astype(int))\n",
    "preferences = preferences.assign(intel1_1=preferences['intel1_1'].astype(int))\n",
    "preferences = preferences.assign(fun1_1=preferences['fun1_1'].astype(int))\n",
    "preferences = preferences.assign(amb1_1=preferences['amb1_1'].astype(int))\n",
    "preferences = preferences.assign(shar1_1=preferences['shar1_1'].astype(int))\n",
    "\n",
    "# Rename columns for better readability\n",
    "preferences = preferences.rename(index=str, columns={\"attr1_1\":\"attractive\", \"sinc1_1\":\"sincere\", \"intel1_1\":\"intelligent\",\n",
    "                                                    \"fun1_1\":\"fun\", \"amb1_1\":\"ambitious\",\"shar1_1\":\"shared interests\"})\n",
    "\n",
    "# Remove duplicates\n",
    "preferences = preferences.groupby('iid')\n",
    "preferences = preferences.head(1)\n",
    "\n",
    "# Calculate averages for each gender\n",
    "preferences = preferences.groupby(['gender'])\n",
    "preferences = preferences.mean().reset_index()\n",
    "\n",
    "# Drop the unneeded column\n",
    "preferences.drop(['iid'], axis=1, inplace=True)\n",
    "\n",
    "# Decode genders for increased readability\n",
    "genders = []\n",
    "for index, row in preferences.iterrows():\n",
    "    gender_code = row['gender']\n",
    "    gender = gender_codes[gender_code]\n",
    "    genders.append(gender)\n",
    "\n",
    "preferences = preferences.assign(gender=genders)\n",
    "\n",
    "preferences"
   ]
  },
  {
   "cell_type": "markdown",
   "metadata": {},
   "source": [
    "And now let's graph it."
   ]
  },
  {
   "cell_type": "code",
   "execution_count": 128,
   "metadata": {},
   "outputs": [
    {
     "data": {
      "text/plain": [
       "<seaborn.axisgrid.FacetGrid at 0x7fa2b07d9080>"
      ]
     },
     "execution_count": 128,
     "metadata": {},
     "output_type": "execute_result"
    },
    {
     "data": {
      "image/png": "[encoded data removed]",
      "text/plain": [
       "<Figure size 430.5x360 with 1 Axes>"
      ]
     },
     "metadata": {},
     "output_type": "display_data"
    }
   ],
   "source": [
    "temp = preferences.drop(['gender'], axis=1)\n",
    "\n",
    "columns = list(temp)\n",
    "attributes = []\n",
    "gender = []\n",
    "values = []\n",
    "for index, row in preferences.iterrows():\n",
    "    attributes = attributes + columns\n",
    "    gender = gender + [row['gender']]*len(columns)\n",
    "    values = values + list(temp.iloc[index])\n",
    "\n",
    "d = {'attributes':attributes,'genders':gender,'importance':values}\n",
    "df = pd.DataFrame(data=d)\n",
    "\n",
    "plot = sns.catplot(x='attributes', y='importance', hue='genders', data=df, kind='bar')\n",
    "plot.fig.suptitle(\"What do people look for in the opposite sex\")\n",
    "plot.set_xticklabels(rotation=30)\n",
    "plot"
   ]
  },
  {
   "cell_type": "markdown",
   "metadata": {},
   "source": [
    "Ahh...There we go. So it seems like men put quite a heavy emphasis on traditional attractiveness whereas women prefer their partners to have a balance among a variety of attributes."
   ]
  }
 ],
 "metadata": {
  "kernelspec": {
   "display_name": "Python 3",
   "language": "python",
   "name": "python3"
  },
  "language_info": {
   "codemirror_mode": {
    "name": "ipython",
    "version": 3
   },
   "file_extension": ".py",
   "mimetype": "text/x-python",
   "name": "python",
   "nbconvert_exporter": "python",
   "pygments_lexer": "ipython3",
   "version": "3.6.3"
  }
 },
 "nbformat": 4,
 "nbformat_minor": 2
}
